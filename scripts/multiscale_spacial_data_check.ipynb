{
 "cells": [
  {
   "cell_type": "code",
   "execution_count": 1,
   "id": "1ebcc361-ce5e-479a-94f4-b1cec138388e",
   "metadata": {},
   "outputs": [
    {
     "name": "stderr",
     "output_type": "stream",
     "text": [
      "/opt/conda/envs/spatialdata/lib/python3.10/site-packages/anndata/utils.py:429: FutureWarning: Importing read_csv from `anndata` is deprecated. Import anndata.io.read_csv instead.\n",
      "  warnings.warn(msg, FutureWarning)\n",
      "/opt/conda/envs/spatialdata/lib/python3.10/site-packages/anndata/utils.py:429: FutureWarning: Importing read_text from `anndata` is deprecated. Import anndata.io.read_text instead.\n",
      "  warnings.warn(msg, FutureWarning)\n",
      "/opt/conda/envs/spatialdata/lib/python3.10/site-packages/anndata/utils.py:429: FutureWarning: Importing read_excel from `anndata` is deprecated. Import anndata.io.read_excel instead.\n",
      "  warnings.warn(msg, FutureWarning)\n",
      "/opt/conda/envs/spatialdata/lib/python3.10/site-packages/anndata/utils.py:429: FutureWarning: Importing read_mtx from `anndata` is deprecated. Import anndata.io.read_mtx instead.\n",
      "  warnings.warn(msg, FutureWarning)\n",
      "/opt/conda/envs/spatialdata/lib/python3.10/site-packages/anndata/utils.py:429: FutureWarning: Importing read_loom from `anndata` is deprecated. Import anndata.io.read_loom instead.\n",
      "  warnings.warn(msg, FutureWarning)\n",
      "/opt/conda/envs/spatialdata/lib/python3.10/site-packages/anndata/utils.py:429: FutureWarning: Importing read_hdf from `anndata` is deprecated. Import anndata.io.read_hdf instead.\n",
      "  warnings.warn(msg, FutureWarning)\n",
      "/opt/conda/envs/spatialdata/lib/python3.10/site-packages/anndata/utils.py:429: FutureWarning: Importing read_umi_tools from `anndata` is deprecated. Import anndata.io.read_umi_tools instead.\n",
      "  warnings.warn(msg, FutureWarning)\n"
     ]
    }
   ],
   "source": [
    "import scanpy as sc\n",
    "import pandas as pd"
   ]
  },
  {
   "cell_type": "code",
   "execution_count": 3,
   "id": "deae52cc-d7a0-46b1-aa69-c19f8ff7f923",
   "metadata": {},
   "outputs": [],
   "source": [
    "def load_fry(frydir, which_counts=['S','A'], verbose=False):\n",
    "    import json\n",
    "    import os\n",
    "    import pandas as pd\n",
    "    \n",
    "    fpath = os.path.sep.join([frydir, \"quant.json\"])\n",
    "    if os.path.exists(fpath):\n",
    "        fpath = os.path.sep.join([frydir, \"meta_info.json\"])\n",
    "\n",
    "    meta_info = json.load(open(fpath))\n",
    "    ng = meta_info['num_genes']\n",
    "    usa_mode = meta_info['usa_mode']\n",
    "\n",
    "    if usa_mode:\n",
    "        assert(len(which_counts) > 0)\n",
    "        if verbose:\n",
    "            print(\"processing input in USA mode, will return {}\".format(\"+\".join(which_counts)))\n",
    "    elif verbose:\n",
    "        print(\"processing input in standard mode, will return spliced count\")\n",
    "\n",
    "    af_raw = scanpy.read_mtx(os.path.sep.join([frydir, \"alevin\", \"quants_mat.mtx\"]))\n",
    "    ng = int(ng/3) if usa_mode else ng\n",
    "    afg = [ l.rstrip() for l in open(os.path.sep.join([frydir, \"alevin\", \"quants_mat_cols.txt\"])).readlines()][:ng]\n",
    "    afg_df =  pd.DataFrame(afg, columns=[\"gene_ids\"])\n",
    "    afg_df = afg_df.set_index(\"gene_ids\")\n",
    "    \n",
    "    abc = [ l.rstrip() for l in open(os.path.sep.join([frydir, \"alevin\", \"quants_mat_rows.txt\"])).readlines() ]\n",
    "    abc_df = pd.DataFrame(abc, columns=['barcodes'])\n",
    "    abc_df.index = abc_df['barcodes']\n",
    "    \n",
    "    x = af_raw.X\n",
    "    if usa_mode:\n",
    "        rd = {'S' : range(0,ng), 'U' : range(ng, 2*ng), 'A' : range(2*ng,3*ng)}\n",
    "        o = x[:, rd[which_counts[0]]]\n",
    "        for wc in which_counts[1:]:\n",
    "            o += x[:, rd[wc]]\n",
    "    else:\n",
    "        o = x\n",
    "        \n",
    "    af = scanpy.AnnData(o.T, var=abc_df, obs=afg_df)\n",
    "    af = af.T\n",
    "    return af"
   ]
  },
  {
   "cell_type": "code",
   "execution_count": 2,
   "id": "5ceb24d3-ee81-44b6-a063-442e106cde53",
   "metadata": {},
   "outputs": [],
   "source": [
    "#pip install scvi-tools\n",
    "#pip install pyroe\n",
    "#from pyroe import load_fry"
   ]
  },
  {
   "cell_type": "code",
   "execution_count": 4,
   "id": "ac8ae751-9703-4fc4-9dca-46a115099a73",
   "metadata": {
    "scrolled": true
   },
   "outputs": [
    {
     "name": "stdout",
     "output_type": "stream",
     "text": [
      "-----\n",
      "anndata     0.11.1\n",
      "scanpy      1.9.3\n",
      "-----\n",
      "PIL                 9.5.0\n",
      "asciitree           NA\n",
      "asttokens           NA\n",
      "cffi                1.17.1\n",
      "cloudpickle         2.2.1\n",
      "comm                0.2.2\n",
      "cycler              0.10.0\n",
      "cython_runtime      NA\n",
      "dask                2023.5.1\n",
      "dateutil            2.9.0\n",
      "debugpy             1.8.6\n",
      "decorator           5.1.1\n",
      "defusedxml          0.7.1\n",
      "entrypoints         0.4\n",
      "exceptiongroup      1.2.2\n",
      "executing           2.1.0\n",
      "fasteners           0.18\n",
      "h5py                3.8.0\n",
      "igraph              0.10.4\n",
      "ipykernel           6.26.0\n",
      "ipython_genutils    0.2.0\n",
      "jedi                0.19.1\n",
      "jinja2              3.1.4\n",
      "joblib              1.2.0\n",
      "kiwisolver          1.4.4\n",
      "leidenalg           0.9.1\n",
      "llvmlite            0.43.0\n",
      "markupsafe          2.1.5\n",
      "matplotlib          3.7.1\n",
      "mpl_toolkits        NA\n",
      "msgpack             1.0.5\n",
      "natsort             8.3.1\n",
      "numba               0.60.0\n",
      "numcodecs           0.11.0\n",
      "numpy               1.26.4\n",
      "packaging           24.1\n",
      "pandas              1.5.3\n",
      "parso               0.8.4\n",
      "pickleshare         0.7.5\n",
      "platformdirs        4.3.6\n",
      "prompt_toolkit      3.0.48\n",
      "psutil              6.0.0\n",
      "pure_eval           0.2.3\n",
      "pyarrow             12.0.0\n",
      "pydev_ipython       NA\n",
      "pydevconsole        NA\n",
      "pydevd              3.1.0\n",
      "pydevd_file_utils   NA\n",
      "pydevd_plugins      NA\n",
      "pydevd_tracing      NA\n",
      "pygments            2.18.0\n",
      "pyparsing           3.0.9\n",
      "pytz                2023.3\n",
      "scipy               1.10.1\n",
      "session_info        1.0.0\n",
      "setuptools          67.8.0\n",
      "six                 1.16.0\n",
      "sklearn             1.2.2\n",
      "sparse              0.15.4\n",
      "sphinxcontrib       NA\n",
      "stack_data          0.6.2\n",
      "tblib               1.7.0\n",
      "texttable           1.6.7\n",
      "threadpoolctl       3.1.0\n",
      "tlz                 0.12.0\n",
      "toolz               0.12.0\n",
      "torch               2.5.1+cu124\n",
      "torchgen            NA\n",
      "tornado             6.4.1\n",
      "tqdm                4.65.0\n",
      "traitlets           5.14.3\n",
      "typing_extensions   NA\n",
      "wcwidth             0.2.13\n",
      "yaml                6.0\n",
      "zarr                2.14.2\n",
      "zipp                NA\n",
      "zmq                 23.0.0\n",
      "zoneinfo            NA\n",
      "-----\n",
      "IPython             8.27.0\n",
      "jupyter_client      7.4.9\n",
      "jupyter_core        5.7.2\n",
      "notebook            6.5.7\n",
      "-----\n",
      "Python 3.10.11 (main, May 16 2023, 00:28:57) [GCC 11.2.0]\n",
      "Linux-5.10.0-33-amd64-x86_64-with-glibc2.39\n",
      "-----\n",
      "Session information updated at 2024-11-19 13:14\n"
     ]
    }
   ],
   "source": [
    "sc.settings.verbosity = 1\n",
    "sc.logging.print_versions()\n",
    "sc.settings.set_figure_params(dpi=80, frameon=False, figsize=(3, 3), facecolor=\"white\")"
   ]
  },
  {
   "cell_type": "code",
   "execution_count": 5,
   "id": "1af3bf28-832c-4843-b64c-88e6da4a91dd",
   "metadata": {},
   "outputs": [
    {
     "ename": "FileNotFoundError",
     "evalue": "[Errno 2] No such file or directory: '/home/jovyan/ifbdata/spatial_cell_id/Kush/alignment/demo_multiscale_data_check/WS_SKN_KCL10525738_S1//quant.json'",
     "output_type": "error",
     "traceback": [
      "\u001b[0;31m---------------------------------------------------------------------------\u001b[0m",
      "\u001b[0;31mFileNotFoundError\u001b[0m                         Traceback (most recent call last)",
      "Cell \u001b[0;32mIn[5], line 2\u001b[0m\n\u001b[1;32m      1\u001b[0m \u001b[38;5;66;03m# Path to your Alevin output directory (which includes `quants_mat.gz`)\u001b[39;00m\n\u001b[0;32m----> 2\u001b[0m adata \u001b[38;5;241m=\u001b[39m \u001b[43mload_fry\u001b[49m\u001b[43m(\u001b[49m\u001b[38;5;124;43m\"\u001b[39;49m\u001b[38;5;124;43m/home/jovyan/ifbdata/spatial_cell_id/Kush/alignment/demo_multiscale_data_check/WS_SKN_KCL10525738_S1/\u001b[39;49m\u001b[38;5;124;43m\"\u001b[39;49m\u001b[43m)\u001b[49m\n",
      "Cell \u001b[0;32mIn[3], line 10\u001b[0m, in \u001b[0;36mload_fry\u001b[0;34m(frydir, which_counts, verbose)\u001b[0m\n\u001b[1;32m      7\u001b[0m \u001b[38;5;28;01mif\u001b[39;00m os\u001b[38;5;241m.\u001b[39mpath\u001b[38;5;241m.\u001b[39mexists(fpath):\n\u001b[1;32m      8\u001b[0m     fpath \u001b[38;5;241m=\u001b[39m os\u001b[38;5;241m.\u001b[39mpath\u001b[38;5;241m.\u001b[39msep\u001b[38;5;241m.\u001b[39mjoin([frydir, \u001b[38;5;124m\"\u001b[39m\u001b[38;5;124mmeta_info.json\u001b[39m\u001b[38;5;124m\"\u001b[39m])\n\u001b[0;32m---> 10\u001b[0m meta_info \u001b[38;5;241m=\u001b[39m json\u001b[38;5;241m.\u001b[39mload(\u001b[38;5;28;43mopen\u001b[39;49m\u001b[43m(\u001b[49m\u001b[43mfpath\u001b[49m\u001b[43m)\u001b[49m)\n\u001b[1;32m     11\u001b[0m ng \u001b[38;5;241m=\u001b[39m meta_info[\u001b[38;5;124m'\u001b[39m\u001b[38;5;124mnum_genes\u001b[39m\u001b[38;5;124m'\u001b[39m]\n\u001b[1;32m     12\u001b[0m usa_mode \u001b[38;5;241m=\u001b[39m meta_info[\u001b[38;5;124m'\u001b[39m\u001b[38;5;124musa_mode\u001b[39m\u001b[38;5;124m'\u001b[39m]\n",
      "File \u001b[0;32m/opt/conda/envs/spatialdata/lib/python3.10/site-packages/IPython/core/interactiveshell.py:324\u001b[0m, in \u001b[0;36m_modified_open\u001b[0;34m(file, *args, **kwargs)\u001b[0m\n\u001b[1;32m    317\u001b[0m \u001b[38;5;28;01mif\u001b[39;00m file \u001b[38;5;129;01min\u001b[39;00m {\u001b[38;5;241m0\u001b[39m, \u001b[38;5;241m1\u001b[39m, \u001b[38;5;241m2\u001b[39m}:\n\u001b[1;32m    318\u001b[0m     \u001b[38;5;28;01mraise\u001b[39;00m \u001b[38;5;167;01mValueError\u001b[39;00m(\n\u001b[1;32m    319\u001b[0m         \u001b[38;5;124mf\u001b[39m\u001b[38;5;124m\"\u001b[39m\u001b[38;5;124mIPython won\u001b[39m\u001b[38;5;124m'\u001b[39m\u001b[38;5;124mt let you open fd=\u001b[39m\u001b[38;5;132;01m{\u001b[39;00mfile\u001b[38;5;132;01m}\u001b[39;00m\u001b[38;5;124m by default \u001b[39m\u001b[38;5;124m\"\u001b[39m\n\u001b[1;32m    320\u001b[0m         \u001b[38;5;124m\"\u001b[39m\u001b[38;5;124mas it is likely to crash IPython. If you know what you are doing, \u001b[39m\u001b[38;5;124m\"\u001b[39m\n\u001b[1;32m    321\u001b[0m         \u001b[38;5;124m\"\u001b[39m\u001b[38;5;124myou can use builtins\u001b[39m\u001b[38;5;124m'\u001b[39m\u001b[38;5;124m open.\u001b[39m\u001b[38;5;124m\"\u001b[39m\n\u001b[1;32m    322\u001b[0m     )\n\u001b[0;32m--> 324\u001b[0m \u001b[38;5;28;01mreturn\u001b[39;00m \u001b[43mio_open\u001b[49m\u001b[43m(\u001b[49m\u001b[43mfile\u001b[49m\u001b[43m,\u001b[49m\u001b[43m \u001b[49m\u001b[38;5;241;43m*\u001b[39;49m\u001b[43margs\u001b[49m\u001b[43m,\u001b[49m\u001b[43m \u001b[49m\u001b[38;5;241;43m*\u001b[39;49m\u001b[38;5;241;43m*\u001b[39;49m\u001b[43mkwargs\u001b[49m\u001b[43m)\u001b[49m\n",
      "\u001b[0;31mFileNotFoundError\u001b[0m: [Errno 2] No such file or directory: '/home/jovyan/ifbdata/spatial_cell_id/Kush/alignment/demo_multiscale_data_check/WS_SKN_KCL10525738_S1//quant.json'"
     ]
    }
   ],
   "source": [
    "\n",
    "# Path to your Alevin output directory (which includes `quants_mat.gz`)\n",
    "adata = load_fry(\"/home/jovyan/ifbdata/spatial_cell_id/Kush/alignment/demo_multiscale_data_check/WS_SKN_KCL10525738_S1/\")\n"
   ]
  },
  {
   "cell_type": "code",
   "execution_count": null,
   "id": "5fbf5eaf-0fdd-4a11-be34-869c0612597d",
   "metadata": {},
   "outputs": [],
   "source": []
  }
 ],
 "metadata": {
  "kernelspec": {
   "display_name": "spatialdata",
   "language": "python",
   "name": "spatialdata"
  },
  "language_info": {
   "codemirror_mode": {
    "name": "ipython",
    "version": 3
   },
   "file_extension": ".py",
   "mimetype": "text/x-python",
   "name": "python",
   "nbconvert_exporter": "python",
   "pygments_lexer": "ipython3",
   "version": "3.10.11"
  }
 },
 "nbformat": 4,
 "nbformat_minor": 5
}
