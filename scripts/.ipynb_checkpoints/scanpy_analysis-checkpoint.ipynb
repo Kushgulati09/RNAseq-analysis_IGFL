{
 "cells": [
  {
   "cell_type": "code",
   "execution_count": null,
   "id": "29b5d891-bc0b-4afc-94c0-20118b99f45d",
   "metadata": {},
   "outputs": [],
   "source": [
    "from vpolo.alevin import parser\n",
    "import scanpy as sc\n",
    "import pandas as pd\n",
    "import os \n",
    "from scipy.io import mmwrite\n",
    "from scipy.sparse import csr_matrix\n",
    "import shutil\n",
    "import tempfile"
   ]
  },
  {
   "cell_type": "code",
   "execution_count": null,
   "id": "e2e7cf33-63bc-4f3c-8ef1-ed7d681124b1",
   "metadata": {},
   "outputs": [],
   "source": [
    "#######\n",
    "def alevin_to_scanpy(Dataset_path, protein_coding_file, universal_genes_file, metadata_file):\n",
    "    with open(protein_coding_file, \"r\") as file:\n",
    "        protein_coding_genes = [i for i in {line.strip() for line in file}]\n",
    "    \n",
    "    metadata_df = pd.read_excel(metadata_file)\n",
    "    # loading the metadata file as a dataframe\n",
    "    adata_dict = {} #empty dict to store adata objects \n",
    "    \n",
    "    for subdir in os.listdir(Dataset_path):\n",
    "        subdir_path = os.path.join(Dataset_path, subdir)\n",
    "        if subdir.startswith('.'): #to handle hidden direcotries (like .ipynb_checkpoints) \n",
    "            continue\n",
    "        if os.path.isdir(subdir_path):\n",
    "            alevin_df = parser.read_quants_bin(subdir_path) \n",
    "            # print(alevin_df.shape)\n",
    "            filtered_alevin_df = alevin_df.T.loc[alevin_df.T.index.isin(protein_coding_genes)] #filtering with only protein coding genes\n",
    "            print(f\"dimensions after filtering: {filtered_alevin_df.shape}\")\n",
    "            missing_genes = list(set(protein_coding_genes) - set(alevin_df.T.index)) #missing genes in df\n",
    "            missing_data = pd.DataFrame(0, index=missing_genes, columns=alevin_df.T.columns) #making missing df with 0 values for all cells\n",
    "            print(f\"adding missing genes: {missing_data.shape}\")\n",
    "            filtered_alevin_df = pd.concat([filtered_alevin_df, missing_data]) #adding missing with 0 values\n",
    "            filtered_alevin_df = filtered_alevin_df.loc[protein_coding_genes] #order sorting\n",
    "            print(f\"final dimension:{filtered_alevin_df.shape}\")\n",
    "            adata = sc.AnnData(filtered_alevin_df)\n",
    "\n",
    "            # same till this part, changing the output appraoch\n",
    "            # removes the directory as soon as it exits the \"with\" loop\n",
    "            with tempfile.TemporaryDirectory() as tempdir:\n",
    "                # matrix.mtx\n",
    "                mmwrite(os.path.join(tempdir, \"matrix.mtx\"), csr_matrix(adata.X))\n",
    "\n",
    "                # barcode file\n",
    "                barcodes_df = pd.DataFrame(adata.var_names) #not adata.obs_names as we are using transpose matrix\n",
    "                barcodes_df.to_csv(os.path.join(tempdir, \"barcodes.tsv\"), sep=\"\\t\", index=False, header=False)\n",
    "\n",
    "                # genes file\n",
    "                shutil.copy(universal_genes_file, os.path.join(tempdir, \"genes.tsv\"))\n",
    "\n",
    "                # scanpy input\n",
    "                adata = sc.read_10x_mtx(\n",
    "                    tempdir,  # the directory with all three files\n",
    "                    var_names=\"gene_symbols\",  # use gene symbols for the variable names (variables-axis index)\n",
    "                    cache=False,  # disabling the automatic cache file so we can create one mannually in the training folder.\n",
    "                )\n",
    "                adata.var_names_make_unique()\n",
    "                \n",
    "                # adding metadata\n",
    "                \n",
    "                dataset_label = [subdir]*len(adata.obs)\n",
    "                adata.obs[\"Dataset\"]=dataset_label\n",
    "                \n",
    "                age_label = metadata_df.loc[metadata_df[\"Accession\"] == subdir, \"AGE\"].values[0]\n",
    "                adata.obs[\"Age\"]=age_label\n",
    "                \n",
    "                sex_label = metadata_df.loc[metadata_df[\"Accession\"] == subdir, \"SEX\"].values[0]\n",
    "                adata.obs[\"Sex\"]=sex_label\n",
    "\n",
    "                skin_area_label = metadata_df.loc[metadata_df[\"Accession\"] == subdir, \"SKIN AREA\"].values[0]\n",
    "                adata.obs[\"Skin area\"]=skin_area_label\n",
    "\n",
    "                ethnicity_label = metadata_df.loc[metadata_df[\"Accession\"] == subdir, \"ETHNICITY\"].values[0]\n",
    "                adata.obs[\"Ethnicity\"]=ethnicity_label\n",
    "                \n",
    "                adata_dict[subdir] = adata\n",
    "    \n",
    "    # adata_dict[\"concatenated\"] = sc.concat(list(adata_dict.values()), keys=adata_dict.keys(), axis=0, label=\"datasets\")\n",
    "    return adata_dict"
   ]
  },
  {
   "cell_type": "code",
   "execution_count": null,
   "id": "8c833e1d-53b5-4f10-bbe7-1e978f1d3a78",
   "metadata": {},
   "outputs": [],
   "source": [
    "Dataset_path = \"/home/jovyan/ifbdata/spatial_cell_id/Kush/alignment/photoaging_extensor_side_alevin\" #\n",
    "protein_coding_file = \"/home/jovyan/ifbdata/spatial_cell_id/Reference/txp2gene/protein_coding_genes_version.txt\"\n",
    "universal_genes_file = \"/home/jovyan/ifbdata/spatial_cell_id/Reference/txp2gene/genes.tsv\"\n",
    "metadata_file = \"/home/jovyan/ifbdata/spatial_cell_id/Reference/Clarins_datasets_metadata.xlsx\"\n",
    "\n",
    "photoaging_extensor_side = alevin_to_scanpy(Dataset_path, protein_coding_file, universal_genes_file, metadata_file) #\n",
    "for key in photoaging_extensor_side.keys(): #\n",
    "    publication_label = ['photoaging_extensor_side']*len(photoaging_extensor_side[key].obs) #\n",
    "    photoaging_extensor_side[key].obs['Publication']=publication_label #"
   ]
  },
  {
   "cell_type": "code",
   "execution_count": null,
   "id": "415409ba-53fc-4b23-8b90-94be841d0490",
   "metadata": {},
   "outputs": [],
   "source": [
    "Concatenated_adata = sc.concat(list(photoaging_extensor_side.values()), axis=0) #"
   ]
  },
  {
   "cell_type": "code",
   "execution_count": null,
   "id": "93a58714-83d7-42ef-a91b-b7ddf1fb0a16",
   "metadata": {},
   "outputs": [],
   "source": [
    "Concatenated_adata"
   ]
  },
  {
   "cell_type": "code",
   "execution_count": null,
   "id": "406c10df-83f4-4f74-95e9-f9dfc9d30ce2",
   "metadata": {},
   "outputs": [],
   "source": [
    "Concatenated_adata = sc.concat(Concatenated_adata, list(output_sun_protected_human_skin_inguinoiliac.values()), axis=0)"
   ]
  },
  {
   "cell_type": "code",
   "execution_count": null,
   "id": "8e7adcc7-c5cf-47b1-9585-7707efd2a9f9",
   "metadata": {},
   "outputs": [],
   "source": [
    "Concatenated_adata"
   ]
  }
 ],
 "metadata": {
  "kernelspec": {
   "display_name": "spatialdata",
   "language": "python",
   "name": "spatialdata"
  },
  "language_info": {
   "codemirror_mode": {
    "name": "ipython",
    "version": 3
   },
   "file_extension": ".py",
   "mimetype": "text/x-python",
   "name": "python",
   "nbconvert_exporter": "python",
   "pygments_lexer": "ipython3",
   "version": "3.10.11"
  }
 },
 "nbformat": 4,
 "nbformat_minor": 5
}
