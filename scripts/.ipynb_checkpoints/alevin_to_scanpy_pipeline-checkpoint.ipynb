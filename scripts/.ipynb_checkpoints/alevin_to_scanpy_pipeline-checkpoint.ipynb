{
 "cells": [
  {
   "cell_type": "code",
   "execution_count": null,
   "id": "19fa0a1a-b0ec-4bdf-88b3-ef630ddaaa04",
   "metadata": {},
   "outputs": [],
   "source": [
    "# This is the code for creating the concatenated adata object from the alevin outputs from all \n",
    "#  publications."
   ]
  },
  {
   "cell_type": "code",
   "execution_count": 1,
   "id": "2c7d2228-2ac6-4e77-b461-e722acd20783",
   "metadata": {},
   "outputs": [],
   "source": [
    "from vpolo.alevin import parser\n",
    "import scanpy as sc\n",
    "import pandas as pd\n",
    "import os \n",
    "from scipy.io import mmwrite\n",
    "from scipy.sparse import csr_matrix\n",
    "import shutil\n",
    "import tempfile"
   ]
  },
  {
   "cell_type": "code",
   "execution_count": null,
   "id": "76d99ab2-8708-4251-a9ec-3a222ad7c100",
   "metadata": {},
   "outputs": [],
   "source": [
    "#######\n",
    "def alevin_to_scanpy(Dataset_path, protein_coding_file, universal_genes_file, metadata_file):\n",
    "    with open(protein_coding_file, \"r\") as file:\n",
    "        protein_coding_genes = [i for i in {line.strip() for line in file}]\n",
    "    \n",
    "    metadata_df = pd.read_excel(metadata_file)\n",
    "    # loading the metadata file as a dataframe\n",
    "    adata_dict = {} #empty dict to store adata objects \n",
    "    \n",
    "    for subdir in os.listdir(Dataset_path):\n",
    "        subdir_path = os.path.join(Dataset_path, subdir)\n",
    "        if subdir.startswith('.'): #to handle hidden direcotries (like .ipynb_checkpoints) \n",
    "            continue\n",
    "        if os.path.isdir(subdir_path):\n",
    "            alevin_df = parser.read_quants_bin(subdir_path) \n",
    "            # print(alevin_df.shape)\n",
    "            filtered_alevin_df = alevin_df.T.loc[alevin_df.T.index.isin(protein_coding_genes)] #filtering with only protein coding genes\n",
    "            print(f\"dimensions after filtering: {filtered_alevin_df.shape}\")\n",
    "            missing_genes = list(set(protein_coding_genes) - set(alevin_df.T.index)) #missing genes in df\n",
    "            missing_data = pd.DataFrame(0, index=missing_genes, columns=alevin_df.T.columns) #making missing df with 0 values for all cells\n",
    "            print(f\"adding missing genes: {missing_data.shape}\")\n",
    "            filtered_alevin_df = pd.concat([filtered_alevin_df, missing_data]) #adding missing with 0 values\n",
    "            filtered_alevin_df = filtered_alevin_df.loc[protein_coding_genes] #order sorting\n",
    "            print(f\"final dimension:{filtered_alevin_df.shape}\")\n",
    "            adata = sc.AnnData(filtered_alevin_df)\n",
    "\n",
    "            # same till this part, changing the output appraoch\n",
    "            # removes the directory as soon as it exits the \"with\" loop\n",
    "            with tempfile.TemporaryDirectory() as tempdir:\n",
    "                # matrix.mtx\n",
    "                mmwrite(os.path.join(tempdir, \"matrix.mtx\"), csr_matrix(adata.X))\n",
    "\n",
    "                # barcode file\n",
    "                barcodes_df = pd.DataFrame(adata.var_names) #not adata.obs_names as we are using transpose matrix\n",
    "                barcodes_df.to_csv(os.path.join(tempdir, \"barcodes.tsv\"), sep=\"\\t\", index=False, header=False)\n",
    "\n",
    "                # genes file\n",
    "                shutil.copy(universal_genes_file, os.path.join(tempdir, \"genes.tsv\"))\n",
    "\n",
    "                # scanpy input\n",
    "                adata = sc.read_10x_mtx(\n",
    "                    tempdir,  # the directory with all three files\n",
    "                    var_names=\"gene_symbols\",  # use gene symbols for the variable names (variables-axis index)\n",
    "                    cache=False,  # disabling the automatic cache file so we can create one mannually in the training folder.\n",
    "                )\n",
    "                adata.var_names_make_unique()\n",
    "                \n",
    "                # adding metadata\n",
    "                \n",
    "                dataset_label = [subdir]*len(adata.obs)\n",
    "                adata.obs[\"Dataset\"]=dataset_label\n",
    "                \n",
    "                age_label = metadata_df.loc[metadata_df[\"Accession\"] == subdir, \"AGE\"].values[0]\n",
    "                adata.obs[\"Age\"]=age_label\n",
    "                \n",
    "                sex_label = metadata_df.loc[metadata_df[\"Accession\"] == subdir, \"SEX\"].values[0]\n",
    "                adata.obs[\"Sex\"]=sex_label\n",
    "\n",
    "                skin_area_label = metadata_df.loc[metadata_df[\"Accession\"] == subdir, \"SKIN AREA\"].values[0]\n",
    "                adata.obs[\"Skin area\"]=skin_area_label\n",
    "\n",
    "                ethnicity_label = metadata_df.loc[metadata_df[\"Accession\"] == subdir, \"ETHNICITY\"].values[0]\n",
    "                adata.obs[\"Ethnicity\"]=ethnicity_label\n",
    "                \n",
    "                adata_dict[subdir] = adata\n",
    "    \n",
    "    # adata_dict[\"concatenated\"] = sc.concat(list(adata_dict.values()), keys=adata_dict.keys(), axis=0, label=\"datasets\")\n",
    "    return adata_dict"
   ]
  },
  {
   "cell_type": "code",
   "execution_count": null,
   "id": "d46913ae-ebb6-4330-8aff-21d38b915cd6",
   "metadata": {},
   "outputs": [],
   "source": [
    "Dataset_path = \"/home/jovyan/ifbdata/spatial_cell_id/Kush/alignment/photoaging_extensor_side_alevin\" #\n",
    "protein_coding_file = \"/home/jovyan/ifbdata/spatial_cell_id/Reference/txp2gene/protein_coding_genes_version.txt\"\n",
    "universal_genes_file = \"/home/jovyan/ifbdata/spatial_cell_id/Reference/txp2gene/genes.tsv\"\n",
    "metadata_file = \"/home/jovyan/ifbdata/spatial_cell_id/Reference/Clarins_datasets_metadata.xlsx\"\n",
    "\n",
    "photoaging_extensor_side = alevin_to_scanpy(Dataset_path, protein_coding_file, universal_genes_file, metadata_file) #\n",
    "for key in photoaging_extensor_side.keys(): #\n",
    "    publication_label = ['photoaging_extensor_side']*len(photoaging_extensor_side[key].obs) #\n",
    "    photoaging_extensor_side[key].obs['Publication']=publication_label #\n",
    "\n",
    "#  need to change the publication info \"#\" times"
   ]
  },
  {
   "cell_type": "code",
   "execution_count": null,
   "id": "86764344-6af1-4f81-a5e7-808575b114e4",
   "metadata": {},
   "outputs": [],
   "source": [
    "Concatenated_adata = sc.concat(list(photoaging_extensor_side.values()), axis=0) # \n",
    "# run for the first publication only "
   ]
  },
  {
   "cell_type": "code",
   "execution_count": null,
   "id": "72cc5892-5c4b-4b3f-a31e-ef69a234753a",
   "metadata": {},
   "outputs": [],
   "source": [
    "Concatenated_adata"
   ]
  },
  {
   "cell_type": "code",
   "execution_count": null,
   "id": "ff2704a8-078e-4470-a2dd-e16d4075343d",
   "metadata": {},
   "outputs": [],
   "source": [
    "Concatenated_adata.obs"
   ]
  },
  {
   "cell_type": "code",
   "execution_count": null,
   "id": "73b2cc4e-157b-4be5-b2b5-77784c56039e",
   "metadata": {},
   "outputs": [],
   "source": [
    "Concatenated_adata = sc.concat(Concatenated_adata, list(output_sun_protected_human_skin_inguinoiliac.values()), axis=0)"
   ]
  },
  {
   "cell_type": "code",
   "execution_count": null,
   "id": "5b346190-2772-4bf5-a7e4-29d4f194cd95",
   "metadata": {},
   "outputs": [],
   "source": [
    "Concatenated_adata"
   ]
  },
  {
   "cell_type": "code",
   "execution_count": null,
   "id": "847df409-44f3-4441-a3dc-64209a0a23a3",
   "metadata": {},
   "outputs": [],
   "source": [
    "Concatenated_adata.obs"
   ]
  },
  {
   "cell_type": "code",
   "execution_count": null,
   "id": "1362be8a-f148-4e61-9b90-e3494b4de711",
   "metadata": {},
   "outputs": [],
   "source": [
    "Concatenated_adata.write_h5ad(\"/home/jovyan/ifbdata/spatial_cell_id/Kush/data/Clarins_concatenated_adata.h5ad\")"
   ]
  }
 ],
 "metadata": {
  "kernelspec": {
   "display_name": "spatialdata",
   "language": "python",
   "name": "spatialdata"
  },
  "language_info": {
   "codemirror_mode": {
    "name": "ipython",
    "version": 3
   },
   "file_extension": ".py",
   "mimetype": "text/x-python",
   "name": "python",
   "nbconvert_exporter": "python",
   "pygments_lexer": "ipython3",
   "version": "3.10.11"
  }
 },
 "nbformat": 4,
 "nbformat_minor": 5
}
