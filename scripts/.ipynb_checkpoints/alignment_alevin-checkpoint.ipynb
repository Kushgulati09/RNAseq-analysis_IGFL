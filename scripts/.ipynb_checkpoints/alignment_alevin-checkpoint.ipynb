{
 "cells": [
  {
   "cell_type": "code",
   "execution_count": 16,
   "id": "3b8a5214-3b87-44f2-96e8-a842f3166e86",
   "metadata": {},
   "outputs": [],
   "source": [
    "import os\n",
    "import re"
   ]
  },
  {
   "cell_type": "code",
   "execution_count": 50,
   "id": "b37212df-7d50-4775-aa27-020fb4be8bcf",
   "metadata": {},
   "outputs": [
    {
     "name": "stdout",
     "output_type": "stream",
     "text": [
      "/home/jovyan/ifbdata/spatial_cell_id/Kush/data/eyelids_full_skin/HRA000395/HRR172227/HRR172227_f1.fastq.gz\n",
      "/home/jovyan/ifbdata/spatial_cell_id/Kush/data/eyelids_full_skin/HRA000395/HRR172227/HRR172227_r2.fastq.gz\n"
     ]
    }
   ],
   "source": [
    "folder_path = \"/home/jovyan/ifbdata/spatial_cell_id/Kush/data/eyelids_full_skin/HRA000395/\"\n",
    "for root, dirs, files in os.walk(folder_path):\n",
    "    for dir_name in dirs:\n",
    "        if dir_name.startswith(\"HRR\"):\n",
    "            f1 = os.path.join(root, dir_name, dir_name + \"_f1.fastq.gz\")\n",
    "            r2 = os.path.join(root, dir_name, dir_name + \"_r2.fastq.gz\")\n",
    "            print(f1)\n",
    "            print(r2)\n",
    "        break"
   ]
  },
  {
   "cell_type": "code",
   "execution_count": null,
   "id": "e561b67f-7b6c-4628-8c42-7bb4493f7566",
   "metadata": {},
   "outputs": [],
   "source": []
  }
 ],
 "metadata": {
  "kernelspec": {
   "display_name": "spatialdata",
   "language": "python",
   "name": "spatialdata"
  },
  "language_info": {
   "codemirror_mode": {
    "name": "ipython",
    "version": 3
   },
   "file_extension": ".py",
   "mimetype": "text/x-python",
   "name": "python",
   "nbconvert_exporter": "python",
   "pygments_lexer": "ipython3",
   "version": "3.10.11"
  }
 },
 "nbformat": 4,
 "nbformat_minor": 5
}
