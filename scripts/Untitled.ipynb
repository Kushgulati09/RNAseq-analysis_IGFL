{
 "cells": [
  {
   "cell_type": "code",
   "execution_count": 1,
   "id": "c58993bc-7ae2-4abe-b95f-04fd2b474418",
   "metadata": {},
   "outputs": [],
   "source": [
    "import scanpy as sc"
   ]
  },
  {
   "cell_type": "code",
   "execution_count": null,
   "id": "bcc06ad2-9e5b-454f-864b-7c54c179e698",
   "metadata": {},
   "outputs": [],
   "source": [
    "adata_temp = sc.read('/home/jovyan/ifbdata/spatial_cell_id/Kush/Scanpy_analysis/adata_pre_batch_effect.h5ad')"
   ]
  },
  {
   "cell_type": "code",
   "execution_count": null,
   "id": "7c5f1f12-793f-47c6-af3d-3745fb0e43da",
   "metadata": {},
   "outputs": [],
   "source": []
  }
 ],
 "metadata": {
  "kernelspec": {
   "display_name": "spatialdata",
   "language": "python",
   "name": "spatialdata"
  },
  "language_info": {
   "codemirror_mode": {
    "name": "ipython",
    "version": 3
   },
   "file_extension": ".py",
   "mimetype": "text/x-python",
   "name": "python",
   "nbconvert_exporter": "python",
   "pygments_lexer": "ipython3",
   "version": "3.10.11"
  }
 },
 "nbformat": 4,
 "nbformat_minor": 5
}
