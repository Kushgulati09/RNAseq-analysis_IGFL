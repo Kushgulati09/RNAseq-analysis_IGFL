{
 "cells": [
  {
   "cell_type": "code",
   "execution_count": 1,
   "id": "808da6ee-9581-4777-94c5-200e7cf8796f",
   "metadata": {},
   "outputs": [],
   "source": [
    "import scanpy as sc\n",
    "from collections import Counter"
   ]
  },
  {
   "cell_type": "code",
   "execution_count": 2,
   "id": "10749fd6-f9a0-4463-b610-2866dcc1df82",
   "metadata": {},
   "outputs": [],
   "source": [
    "# loading the filtered adata\n",
    "adata3 = sc.read(\"/home/jovyan/ifbdata/spatial_cell_id/Kush/Scanpy_analysis/New_analysis/adata_filtered.h5ad\")"
   ]
  },
  {
   "cell_type": "code",
   "execution_count": 3,
   "id": "1c91b602-9658-40f4-b198-0eac7364d66a",
   "metadata": {},
   "outputs": [],
   "source": [
    "adata_dataset = adata3.copy()"
   ]
  },
  {
   "cell_type": "code",
   "execution_count": null,
   "id": "70814468-e0d6-414b-af87-c9d5abf9d875",
   "metadata": {},
   "outputs": [],
   "source": [
    "sc.pp.scrublet(adata_dataset, batch_key=\"Dataset\")"
   ]
  },
  {
   "cell_type": "code",
   "execution_count": null,
   "id": "66ce0df3-b0fe-41a8-90b0-691102050af6",
   "metadata": {},
   "outputs": [],
   "source": [
    "# Saving count data\n",
    "adata_dataset.layers[\"counts\"] = adata_dataset.X.copy()"
   ]
  },
  {
   "cell_type": "code",
   "execution_count": null,
   "id": "6636f5ad-79aa-487d-b3f9-a314ddc136a0",
   "metadata": {},
   "outputs": [],
   "source": [
    "# Normalizing to median total counts\n",
    "sc.pp.normalize_total(adata_dataset)\n",
    "# Logarithmize the data\n",
    "sc.pp.log1p(adata_dataset)"
   ]
  },
  {
   "cell_type": "code",
   "execution_count": null,
   "id": "352b3f97-51ad-4df2-b9f9-28b0b645533a",
   "metadata": {},
   "outputs": [],
   "source": [
    "sc.pp.highly_variable_genes(adata_dataset, n_top_genes=2000, batch_key=\"Dataset\")"
   ]
  },
  {
   "cell_type": "code",
   "execution_count": null,
   "id": "fc4d4134-9a93-4f94-8d7c-161ee03a3990",
   "metadata": {},
   "outputs": [],
   "source": [
    "sc.pl.highly_variable_genes(adata_dataset)"
   ]
  }
 ],
 "metadata": {
  "kernelspec": {
   "display_name": "spatialdata",
   "language": "python",
   "name": "spatialdata"
  },
  "language_info": {
   "codemirror_mode": {
    "name": "ipython",
    "version": 3
   },
   "file_extension": ".py",
   "mimetype": "text/x-python",
   "name": "python",
   "nbconvert_exporter": "python",
   "pygments_lexer": "ipython3",
   "version": "3.10.11"
  }
 },
 "nbformat": 4,
 "nbformat_minor": 5
}
