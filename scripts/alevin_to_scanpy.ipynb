{
 "cells": [
  {
   "cell_type": "code",
   "execution_count": 1,
   "id": "82989612-8ac4-4764-a03b-d3510f726e05",
   "metadata": {
    "scrolled": true
   },
   "outputs": [
    {
     "name": "stderr",
     "output_type": "stream",
     "text": [
      "/opt/conda/envs/spatialdata/lib/python3.10/site-packages/scipy/__init__.py:146: UserWarning: A NumPy version >=1.17.3 and <1.25.0 is required for this version of SciPy (detected version 1.26.4\n",
      "  warnings.warn(f\"A NumPy version >={np_minversion} and <{np_maxversion}\"\n",
      "/opt/conda/envs/spatialdata/lib/python3.10/site-packages/anndata/utils.py:429: FutureWarning: Importing read_csv from `anndata` is deprecated. Import anndata.io.read_csv instead.\n",
      "  warnings.warn(msg, FutureWarning)\n",
      "/opt/conda/envs/spatialdata/lib/python3.10/site-packages/anndata/utils.py:429: FutureWarning: Importing read_text from `anndata` is deprecated. Import anndata.io.read_text instead.\n",
      "  warnings.warn(msg, FutureWarning)\n",
      "/opt/conda/envs/spatialdata/lib/python3.10/site-packages/anndata/utils.py:429: FutureWarning: Importing read_excel from `anndata` is deprecated. Import anndata.io.read_excel instead.\n",
      "  warnings.warn(msg, FutureWarning)\n",
      "/opt/conda/envs/spatialdata/lib/python3.10/site-packages/anndata/utils.py:429: FutureWarning: Importing read_mtx from `anndata` is deprecated. Import anndata.io.read_mtx instead.\n",
      "  warnings.warn(msg, FutureWarning)\n",
      "/opt/conda/envs/spatialdata/lib/python3.10/site-packages/anndata/utils.py:429: FutureWarning: Importing read_loom from `anndata` is deprecated. Import anndata.io.read_loom instead.\n",
      "  warnings.warn(msg, FutureWarning)\n",
      "/opt/conda/envs/spatialdata/lib/python3.10/site-packages/anndata/utils.py:429: FutureWarning: Importing read_hdf from `anndata` is deprecated. Import anndata.io.read_hdf instead.\n",
      "  warnings.warn(msg, FutureWarning)\n",
      "/opt/conda/envs/spatialdata/lib/python3.10/site-packages/anndata/utils.py:429: FutureWarning: Importing read_umi_tools from `anndata` is deprecated. Import anndata.io.read_umi_tools instead.\n",
      "  warnings.warn(msg, FutureWarning)\n"
     ]
    }
   ],
   "source": [
    "from vpolo.alevin import parser\n",
    "import scanpy as sc\n",
    "import pandas as pd\n",
    "import os \n",
    "from scipy.io import mmwrite\n",
    "from scipy.sparse import csr_matrix\n",
    "import shutil"
   ]
  },
  {
   "cell_type": "code",
   "execution_count": 12,
   "id": "e1c157d6-0b2e-45bd-972e-ce2956df98e0",
   "metadata": {},
   "outputs": [
    {
     "name": "stdout",
     "output_type": "stream",
     "text": [
      "/home/jovyan/ifbdata/spatial_cell_id/Kush/alignment/demo_matrix/align/SRR9036396/alevin\n",
      "Using rust mode with 3281 rows and 78277 columns\n",
      "(3281, 78277)\n",
      "(20037, 3281)\n",
      "(79, 3281)\n"
     ]
    },
    {
     "name": "stderr",
     "output_type": "stream",
     "text": [
      "/tmp/ipykernel_1226400/204657839.py:21: FutureWarning: Passing a set as an indexer is deprecated and will raise in a future version. Use a list instead.\n",
      "  filtered_alevin_df = filtered_alevin_df.loc[protein_coding_genes] #order sorting\n"
     ]
    },
    {
     "name": "stdout",
     "output_type": "stream",
     "text": [
      "(20116, 3281)\n",
      "/home/jovyan/ifbdata/spatial_cell_id/Kush/alignment/demo_matrix/align/SRR9036397/alevin\n",
      "Using rust mode with 4544 rows and 78277 columns\n",
      "(4544, 78277)\n",
      "(20037, 4544)\n",
      "(79, 4544)\n"
     ]
    },
    {
     "name": "stderr",
     "output_type": "stream",
     "text": [
      "/tmp/ipykernel_1226400/204657839.py:21: FutureWarning: Passing a set as an indexer is deprecated and will raise in a future version. Use a list instead.\n",
      "  filtered_alevin_df = filtered_alevin_df.loc[protein_coding_genes] #order sorting\n"
     ]
    },
    {
     "name": "stdout",
     "output_type": "stream",
     "text": [
      "(20116, 4544)\n"
     ]
    }
   ],
   "source": [
    "\n",
    "# takes alevin output files as input and provides with scanpy readable matrix.mtx, barcodes.tsv and genes.tsv files\n",
    "\n",
    "Dataset_path = \"/home/jovyan/ifbdata/spatial_cell_id/Kush/alignment/demo_matrix/align\"\n",
    "protein_coding_file = \"/home/jovyan/ifbdata/spatial_cell_id/Reference/txp2gene/protein_coding_genes_version.txt\"\n",
    "Matrix_output = \"/home/jovyan/ifbdata/spatial_cell_id/Kush/alignment/demo_matrix/matrix\"\n",
    "universal_genes_file = \"/home/jovyan/ifbdata/spatial_cell_id/Reference/txp2gene/genes.tsv\"\n",
    "\n",
    "with open(protein_coding_file, \"r\") as file:\n",
    "    protein_coding_genes = {line.strip() for line in file}\n",
    "\n",
    "for subdir in os.listdir(Dataset_path):\n",
    "    subdir_path = os.path.join(Dataset_path, subdir)\n",
    "    if os.path.isdir(subdir_path):\n",
    "        # print(subdir_path)\n",
    "        alevin_df = parser.read_quants_bin(subdir_path) \n",
    "        # print(alevin_df.shape)\n",
    "        filtered_alevin_df = alevin_df.T.loc[alevin_df.T.index.isin(protein_coding_genes)] #filtering with only protein coding genes\n",
    "        # print(filtered_alevin_df.shape)\n",
    "        missing_genes = list(set(protein_coding_genes) - set(alevin_df.T.index)) #missing genes in df\n",
    "        missing_data = pd.DataFrame(0, index=missing_genes, columns=alevin_df.T.columns) #making missing df with 0 values for all cells\n",
    "        # print(missing_data.shape)\n",
    "        filtered_alevin_df = pd.concat([filtered_alevin_df, missing_data]) #adding missing with 0 values\n",
    "        filtered_alevin_df = filtered_alevin_df.loc[protein_coding_genes] #order sorting\n",
    "        # print(filtered_alevin_df.shape)\n",
    "        adata = sc.AnnData(filtered_alevin_df)\n",
    "        output = os.path.join(Matrix_output, subdir)\n",
    "        if not os.path.exists(output):\n",
    "            os.makedirs(output)\n",
    "        # matrix file\n",
    "        mmwrite(os.path.join(output, \"matrix.mtx\"), csr_matrix(adata.X))\n",
    "        \n",
    "        # barcode file\n",
    "        barcodes_df = pd.DataFrame(adata.var_names) #not adata.obs_names as we are using transpose matrix\n",
    "        barcodes_df.to_csv(os.path.join(output, \"barcodes.tsv\"), sep=\"\\t\", index=False, header=False)\n",
    "\n",
    "        # since we are using universal genes.tsv file for all datasets, putting that file in every matrix folder\n",
    "        # if it was not the universal order file, we could use similar as barcodes.tsv using adata.obs_names\n",
    "        # gene file\n",
    "        shutil.copy(universal_genes_file, os.path.join(output, \"genes.tsv\"))\n",
    "    # break"
   ]
  },
  {
   "cell_type": "code",
   "execution_count": null,
   "id": "12c6f505-40f9-417c-9fc2-03f0224f617a",
   "metadata": {},
   "outputs": [],
   "source": []
  }
 ],
 "metadata": {
  "kernelspec": {
   "display_name": "spatialdata",
   "language": "python",
   "name": "spatialdata"
  },
  "language_info": {
   "codemirror_mode": {
    "name": "ipython",
    "version": 3
   },
   "file_extension": ".py",
   "mimetype": "text/x-python",
   "name": "python",
   "nbconvert_exporter": "python",
   "pygments_lexer": "ipython3",
   "version": "3.10.11"
  }
 },
 "nbformat": 4,
 "nbformat_minor": 5
}
