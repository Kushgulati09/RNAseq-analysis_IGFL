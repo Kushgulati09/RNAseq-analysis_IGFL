{
 "cells": [
  {
   "cell_type": "code",
   "execution_count": 35,
   "id": "45dec4df-1d34-4899-adc4-07793233eba8",
   "metadata": {},
   "outputs": [],
   "source": [
    "import pandas as pd"
   ]
  },
  {
   "cell_type": "code",
   "execution_count": null,
   "id": "d1b0717f-e877-4f9d-a457-829bba4c7cd9",
   "metadata": {},
   "outputs": [],
   "source": [
    "txp_file = pd.read_csv(\"/home/jovyan/ifbdata/spatial_cell_id/Reference/txp2gene/txp2gene_reduced.tsv\", sep=\"\\t\")\n",
    "value = txp_file.iloc[:,1]\n",
    "# print(len(value))\n",
    "value = value.append(pd.Series([\"ENSG00000186092.7\"]), ignore_index=True) #manually adding gene left out as column header \n",
    "# print(len(value))\n",
    "protein_coding_genes = set(value)\n",
    "# print(protein_coding_genes)\n",
    "print(len(protein_coding_genes))\n",
    "\n",
    "output_file = \"/home/jovyan/ifbdata/spatial_cell_id/Reference/txp2gene/protein_coding_genes_versions.txt\"\n",
    "with open(output_file, \"w\") as file:\n",
    "    for gene in protein_coding_genes:\n",
    "        file.write(f\"{gene}\\n\")\n",
    "\n",
    "# used find and replace and regex to remove the version suffix for symbol conversion"
   ]
  },
  {
   "cell_type": "code",
   "execution_count": 8,
   "id": "1b3d83b9-799e-4392-a635-f739586e2a8c",
   "metadata": {},
   "outputs": [
    {
     "name": "stdout",
     "output_type": "stream",
     "text": [
      "TSV file created at /home/jovyan/ifbdata/spatial_cell_id/Kush/alignment/demo_matrix/genes_demo.tsv\n"
     ]
    }
   ],
   "source": [
    "# databases used for gene_ID to gene_symbol conversion:\n",
    "\n",
    "# https://biotools.fr/human/ensembl_symbol_converter\n",
    "# https://www.syngoportal.org/convert\n",
    "\n",
    "gene_id = \"/home/jovyan/ifbdata/spatial_cell_id/Reference/txp2gene/protein_coding_genes.txt\"\n",
    "gene_symbol = \"/home/jovyan/ifbdata/spatial_cell_id/Reference/txp2gene/gene_symbols.txt\"\n",
    "output = \"/home/jovyan/ifbdata/spatial_cell_id/Kush/alignment/demo_matrix/genes_demo.tsv\"\n",
    "\n",
    "with open(gene_id, \"r\") as file1, open(gene_symbol, \"r\") as file2:\n",
    "    values1 = file1.readlines()\n",
    "    values2 = file2.readlines()\n",
    "\n",
    "if len(values1) != len(values2):\n",
    "    raise ValueError(\"The two files must have the same number of lines.\")\n",
    "\n",
    "with open(output, \"w\") as output_file:\n",
    "    output_file.write(\"Gene_ID\\tGene_symbol\\n\")\n",
    "    \n",
    "    for val1, val2 in zip(values1, values2):\n",
    "        output_file.write(f\"{val1.strip()}\\t{val2.strip()}\\n\")\n",
    "\n",
    "print(f\"TSV file created at {output}\")\n",
    "\n",
    "# got the indeces of empty rows in gene_symbols.txt for index in index_gene_symbol.txt\n",
    "# genes.tsv --> genes_demo.tsv"
   ]
  },
  {
   "cell_type": "code",
   "execution_count": 26,
   "id": "395ff2f1-bbf1-474f-bfb8-0733402bea5e",
   "metadata": {},
   "outputs": [],
   "source": [
    "# extracted the gene_IDs for corresposnding missing gene symbols \n",
    "\n",
    "df = pd.read_csv(\"/home/jovyan/ifbdata/spatial_cell_id/Reference/txp2gene/genes.tsv\", sep=\"\\t\")\n",
    "\n",
    "with open('/home/jovyan/ifbdata/spatial_cell_id/Kush/alignment/demo_matrix/index_gene_symbol.txt', 'r') as file:\n",
    "    index = [int(line.strip()) for line in file]\n",
    "\n",
    "output_df = pd.DataFrame({\n",
    "    'Original_Index': index,  # original indices\n",
    "    'Gene_ID': values\n",
    "})\n",
    "\n",
    "# values = df.iloc[index - 1][\"Gene_ID\"]\n",
    "output_df.to_csv(\"/home/jovyan/ifbdata/spatial_cell_id/Kush/alignment/demo_matrix/missing_symbol.tsv\", sep='\\t', header=True, index=False)\n",
    "\n",
    "# created header for reference, to be removed at last step"
   ]
  },
  {
   "cell_type": "code",
   "execution_count": 29,
   "id": "c1c199e9-8d6f-4d7e-946e-7b6edf5f5484",
   "metadata": {},
   "outputs": [
    {
     "name": "stdout",
     "output_type": "stream",
     "text": [
      "done\n"
     ]
    }
   ],
   "source": [
    "# extracted symbols for as much available IDs from other Database\n",
    "# updating the genes.tsv file\n",
    "\n",
    "# Load the TSV and Excel files\n",
    "file1 = pd.read_csv(\"/home/jovyan/ifbdata/spatial_cell_id/Kush/alignment/demo_matrix/genes.tsv\", sep=\"\\t\")\n",
    "file2 = pd.read_excel(\"/home/jovyan/ifbdata/spatial_cell_id/Kush/alignment/demo_matrix/idmap.xlsx\")\n",
    "\n",
    "# Ensure column names are consistent for easy merging\n",
    "file1.columns = file1.columns.str.strip()\n",
    "file2.columns = file2.columns.str.strip()\n",
    "\n",
    "# Create a dictionary from file2 with gene_ID as key and gene_symbol as value\n",
    "file2_dict = dict(zip(file2['query'], file2['symbol']))\n",
    "\n",
    "# Update file1\n",
    "def update_gene_symbol(row):\n",
    "    if pd.isna(row['Gene_symbol']):\n",
    "        if row['Gene_ID'] in file2_dict:\n",
    "            return file2_dict[row['Gene_ID']] if not pd.isna(file2_dict[row['Gene_ID']]) else f\"UND_{row['Gene_ID']}\"\n",
    "        else:\n",
    "            return f\"UND_{row['Gene_ID']}\"\n",
    "    return row['Gene_symbol']\n",
    "\n",
    "file1['Gene_symbol'] = file1.apply(update_gene_symbol, axis=1)\n",
    "\n",
    "# Save the updated DataFrame to a new TSV file\n",
    "file1.to_csv(\"/home/jovyan/ifbdata/spatial_cell_id/Kush/alignment/demo_matrix/updated_gene_symbol.tsv\", sep=\"\\t\", index=False)\n",
    "print(\"done\")"
   ]
  },
  {
   "cell_type": "code",
   "execution_count": 32,
   "id": "939efcaa-3389-49d4-8807-80f6ba265bd5",
   "metadata": {},
   "outputs": [
    {
     "name": "stdout",
     "output_type": "stream",
     "text": [
      "sequence matches\n"
     ]
    }
   ],
   "source": [
    "# checking the order of the genes.tsv file after update\n",
    "\n",
    "with open(\"/home/jovyan/ifbdata/spatial_cell_id/Reference/txp2gene/protein_coding_genes.txt\", 'r') as file:\n",
    "    values1 = [line.strip() for line in file]\n",
    "\n",
    "tsv_data = pd.read_csv(\"/home/jovyan/ifbdata/spatial_cell_id/Kush/alignment/demo_matrix/updated_gene_symbol.tsv\", sep=\"\\t\")\n",
    "values2 = tsv_data[\"Gene_ID\"].tolist()\n",
    "\n",
    "if values1 == values2:\n",
    "    print(\"sequence matches\")\n",
    "else:\n",
    "    print(\"sequence does not match\")"
   ]
  },
  {
   "cell_type": "code",
   "execution_count": 34,
   "id": "8dff25ac-3aad-459f-b183-70823ff6edff",
   "metadata": {},
   "outputs": [],
   "source": [
    "# removing the header created in initial step\n",
    "\n",
    "file_path = \"/home/jovyan/ifbdata/spatial_cell_id/Reference/txp2gene/genes.tsv\"\n",
    "\n",
    "df = pd.read_csv(file_path, sep=\"\\t\", header=0)\n",
    "\n",
    "df.to_csv(file_path, sep=\"\\t\", index=False, header=False)"
   ]
  }
 ],
 "metadata": {
  "kernelspec": {
   "display_name": "spatialdata",
   "language": "python",
   "name": "spatialdata"
  },
  "language_info": {
   "codemirror_mode": {
    "name": "ipython",
    "version": 3
   },
   "file_extension": ".py",
   "mimetype": "text/x-python",
   "name": "python",
   "nbconvert_exporter": "python",
   "pygments_lexer": "ipython3",
   "version": "3.10.11"
  }
 },
 "nbformat": 4,
 "nbformat_minor": 5
}
