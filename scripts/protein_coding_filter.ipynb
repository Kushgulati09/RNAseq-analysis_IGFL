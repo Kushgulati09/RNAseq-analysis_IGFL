{
 "cells": [
  {
   "cell_type": "code",
   "execution_count": 19,
   "id": "5c079544-5323-4758-b8db-4e7b47c35329",
   "metadata": {},
   "outputs": [
    {
     "name": "stdout",
     "output_type": "stream",
     "text": [
      "20116\n"
     ]
    },
    {
     "name": "stderr",
     "output_type": "stream",
     "text": [
      "/tmp/ipykernel_220180/2574692781.py:5: FutureWarning: The series.append method is deprecated and will be removed from pandas in a future version. Use pandas.concat instead.\n",
      "  value = value.append(pd.Series([\"ENSG00000186092.7\"]), ignore_index=True) #manually adding gene left out as column header\n"
     ]
    }
   ],
   "source": [
    "import pandas as pd\n",
    "txp_file = pd.read_csv(\"/home/jovyan/ifbdata/spatial_cell_id/Reference/txp2gene/txp2gene_reduced.tsv\", sep=\"\\t\")\n",
    "value = txp_file.iloc[:,1]\n",
    "# print(len(value))\n",
    "value = value.append(pd.Series([\"ENSG00000186092.7\"]), ignore_index=True) #manually adding gene left out as column header \n",
    "# print(len(value))\n",
    "protein_coding_genes = set(value)\n",
    "# print(protein_coding_genes)\n",
    "print(len(protein_coding_genes))"
   ]
  },
  {
   "cell_type": "code",
   "execution_count": null,
   "id": "d3cb42d9-2f3a-41a6-846f-50f76f200fb0",
   "metadata": {},
   "outputs": [],
   "source": []
  }
 ],
 "metadata": {
  "kernelspec": {
   "display_name": "spatialdata",
   "language": "python",
   "name": "spatialdata"
  },
  "language_info": {
   "codemirror_mode": {
    "name": "ipython",
    "version": 3
   },
   "file_extension": ".py",
   "mimetype": "text/x-python",
   "name": "python",
   "nbconvert_exporter": "python",
   "pygments_lexer": "ipython3",
   "version": "3.10.11"
  }
 },
 "nbformat": 4,
 "nbformat_minor": 5
}
