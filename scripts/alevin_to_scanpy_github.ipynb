{
 "cells": [
  {
   "cell_type": "code",
   "execution_count": 3,
   "id": "2db42153-e47e-4ca5-acb4-6fdf0622c785",
   "metadata": {},
   "outputs": [
    {
     "name": "stderr",
     "output_type": "stream",
     "text": [
      "/opt/conda/envs/spatialdata/lib/python3.10/site-packages/scipy/__init__.py:146: UserWarning: A NumPy version >=1.17.3 and <1.25.0 is required for this version of SciPy (detected version 1.26.4\n",
      "  warnings.warn(f\"A NumPy version >={np_minversion} and <{np_maxversion}\"\n",
      "/opt/conda/envs/spatialdata/lib/python3.10/site-packages/anndata/utils.py:429: FutureWarning: Importing read_csv from `anndata` is deprecated. Import anndata.io.read_csv instead.\n",
      "  warnings.warn(msg, FutureWarning)\n",
      "/opt/conda/envs/spatialdata/lib/python3.10/site-packages/anndata/utils.py:429: FutureWarning: Importing read_text from `anndata` is deprecated. Import anndata.io.read_text instead.\n",
      "  warnings.warn(msg, FutureWarning)\n",
      "/opt/conda/envs/spatialdata/lib/python3.10/site-packages/anndata/utils.py:429: FutureWarning: Importing read_excel from `anndata` is deprecated. Import anndata.io.read_excel instead.\n",
      "  warnings.warn(msg, FutureWarning)\n",
      "/opt/conda/envs/spatialdata/lib/python3.10/site-packages/anndata/utils.py:429: FutureWarning: Importing read_mtx from `anndata` is deprecated. Import anndata.io.read_mtx instead.\n",
      "  warnings.warn(msg, FutureWarning)\n",
      "/opt/conda/envs/spatialdata/lib/python3.10/site-packages/anndata/utils.py:429: FutureWarning: Importing read_loom from `anndata` is deprecated. Import anndata.io.read_loom instead.\n",
      "  warnings.warn(msg, FutureWarning)\n",
      "/opt/conda/envs/spatialdata/lib/python3.10/site-packages/anndata/utils.py:429: FutureWarning: Importing read_hdf from `anndata` is deprecated. Import anndata.io.read_hdf instead.\n",
      "  warnings.warn(msg, FutureWarning)\n",
      "/opt/conda/envs/spatialdata/lib/python3.10/site-packages/anndata/utils.py:429: FutureWarning: Importing read_umi_tools from `anndata` is deprecated. Import anndata.io.read_umi_tools instead.\n",
      "  warnings.warn(msg, FutureWarning)\n"
     ]
    }
   ],
   "source": [
    "from vpolo.alevin import parser\n",
    "import scanpy as sc\n",
    "import pandas as pd\n",
    "import os \n",
    "from scipy.io import mmwrite\n",
    "from scipy.sparse import csr_matrix\n",
    "import tempfile"
   ]
  },
  {
   "cell_type": "code",
   "execution_count": 8,
   "id": "5693cda3-704f-4194-a6b4-491fb65bf0d0",
   "metadata": {},
   "outputs": [],
   "source": [
    "def alevin_to_scanpy(Dataset_path):\n",
    "\n",
    "    if os.path.isdir(Dataset_path):\n",
    "        alevin_df = parser.read_quants_bin(Dataset_path).T\n",
    "        #alevin_df = alevin_df.T\n",
    "        print(alevin_df.shape)\n",
    "        adata = sc.AnnData(alevin_df)\n",
    "        print(adata)\n",
    "        with tempfile.TemporaryDirectory() as tempdir:\n",
    "            # matrix.mtx\n",
    "            mmwrite(os.path.join(tempdir, \"matrix.mtx\"), csr_matrix(adata.X))\n",
    "            print(adata.X)\n",
    "            \n",
    "            # barcode file\n",
    "            barcodes_df = pd.DataFrame(adata.var_names) #not adata.obs_names as we are using transpose matrix\n",
    "            barcodes_df.to_csv(os.path.join(tempdir, \"barcodes.tsv\"), sep=\"\\t\", index=False, header=False)\n",
    "            print(adata.var_names)\n",
    "            \n",
    "            #adata.obs_names = adata.obs_names.str.split('.').str[0]\n",
    "            # genes file\n",
    "            genes_df = pd.DataFrame(adata.obs_names)\n",
    "            genes_df.to_csv(os.path.join(tempdir, \"genes.tsv\"), sep=\"\\t\", index=False, header=False)\n",
    "            print(genes_df)\n",
    "            \n",
    "            # scanpy input\n",
    "            adata = sc.read_10x_mtx(\n",
    "                tempdir,  # the directory with all three files\n",
    "                var_names=\"gene_ids\",  # use gene symbols for the variable names (variables-axis index)\n",
    "                cache=False,  # disabling the automatic cache file so we can create one mannually in the training folder.\n",
    "            )\n",
    "            adata.var_names_make_unique()\n",
    "        return adata"
   ]
  },
  {
   "cell_type": "code",
   "execution_count": 9,
   "id": "90122b71-8df3-4710-b286-ece81648932c",
   "metadata": {},
   "outputs": [
    {
     "name": "stdout",
     "output_type": "stream",
     "text": [
      "/home/jovyan/ifbdata/spatial_cell_id/Kush/alignment/demo_matrix/align/SRR9036396/alevin\n",
      "Using rust mode with 3281 rows and 78277 columns\n",
      "(78277, 3281)\n",
      "AnnData object with n_obs × n_vars = 78277 × 3281\n",
      "[[  0.           0.           0.         ...   0.           0.\n",
      "    0.        ]\n",
      " [  0.           0.           0.         ...   0.           0.\n",
      "    0.        ]\n",
      " [  0.           1.5          0.         ...   0.33333334   0.\n",
      "    0.        ]\n",
      " ...\n",
      " [162.         189.          55.         ...   8.           4.\n",
      "    2.        ]\n",
      " [  0.           0.           0.         ...   0.           0.\n",
      "    0.        ]\n",
      " [  0.           0.           0.         ...   0.           0.\n",
      "    0.        ]]\n",
      "Index(['CTTAACTTCTGAGGGA', 'AACACGTGTACAAGTA', 'AGAGCTTTCTTAACCT',\n",
      "       'TGGTTAGAGCAGACTG', 'CGGACGTCAACTGGCC', 'CGTTCTGGTTCGTTGA',\n",
      "       'ATTGGACAGCGATTCT', 'GCGCAGTGTATATCCG', 'TGGACGCGTCCTGCTT',\n",
      "       'CAGCTGGGTCCGAGTC',\n",
      "       ...\n",
      "       'GTAACGTCAGACTCGC', 'CAGCCGAAGACGCTTT', 'CGATGTAGTCCGACGT',\n",
      "       'GTACGTACAACGATGG', 'ACGTCAATCGTCTGAA', 'CAGTAACTCAGTCAGT',\n",
      "       'CGAGAAGAGAGCTGCA', 'CATCCACTCCAAACTG', 'CCCAGTTTCACTTACT',\n",
      "       'TACTTGTCAAGTCTGT'],\n",
      "      dtype='object', length=3281)\n",
      "                       0\n",
      "0      ENSG00000290825.2\n",
      "1      ENSG00000223972.6\n",
      "2      ENSG00000310526.1\n",
      "3      ENSG00000227232.6\n",
      "4      ENSG00000278267.1\n",
      "...                  ...\n",
      "78272  ENSG00000198695.2\n",
      "78273  ENSG00000210194.1\n",
      "78274  ENSG00000198727.2\n",
      "78275  ENSG00000210195.2\n",
      "78276  ENSG00000210196.2\n",
      "\n",
      "[78277 rows x 1 columns]\n"
     ]
    },
    {
     "ename": "KeyError",
     "evalue": "1",
     "output_type": "error",
     "traceback": [
      "\u001b[0;31m---------------------------------------------------------------------------\u001b[0m",
      "\u001b[0;31mKeyError\u001b[0m                                  Traceback (most recent call last)",
      "File \u001b[0;32m/opt/conda/envs/spatialdata/lib/python3.10/site-packages/pandas/core/indexes/base.py:3621\u001b[0m, in \u001b[0;36mIndex.get_loc\u001b[0;34m(self, key, method, tolerance)\u001b[0m\n\u001b[1;32m   3620\u001b[0m \u001b[38;5;28;01mtry\u001b[39;00m:\n\u001b[0;32m-> 3621\u001b[0m     \u001b[38;5;28;01mreturn\u001b[39;00m \u001b[38;5;28;43mself\u001b[39;49m\u001b[38;5;241;43m.\u001b[39;49m\u001b[43m_engine\u001b[49m\u001b[38;5;241;43m.\u001b[39;49m\u001b[43mget_loc\u001b[49m\u001b[43m(\u001b[49m\u001b[43mcasted_key\u001b[49m\u001b[43m)\u001b[49m\n\u001b[1;32m   3622\u001b[0m \u001b[38;5;28;01mexcept\u001b[39;00m \u001b[38;5;167;01mKeyError\u001b[39;00m \u001b[38;5;28;01mas\u001b[39;00m err:\n",
      "File \u001b[0;32m/opt/conda/envs/spatialdata/lib/python3.10/site-packages/pandas/_libs/index.pyx:136\u001b[0m, in \u001b[0;36mpandas._libs.index.IndexEngine.get_loc\u001b[0;34m()\u001b[0m\n",
      "File \u001b[0;32m/opt/conda/envs/spatialdata/lib/python3.10/site-packages/pandas/_libs/index.pyx:163\u001b[0m, in \u001b[0;36mpandas._libs.index.IndexEngine.get_loc\u001b[0;34m()\u001b[0m\n",
      "File \u001b[0;32mpandas/_libs/hashtable_class_helper.pxi:2131\u001b[0m, in \u001b[0;36mpandas._libs.hashtable.Int64HashTable.get_item\u001b[0;34m()\u001b[0m\n",
      "File \u001b[0;32mpandas/_libs/hashtable_class_helper.pxi:2140\u001b[0m, in \u001b[0;36mpandas._libs.hashtable.Int64HashTable.get_item\u001b[0;34m()\u001b[0m\n",
      "\u001b[0;31mKeyError\u001b[0m: 1",
      "\nThe above exception was the direct cause of the following exception:\n",
      "\u001b[0;31mKeyError\u001b[0m                                  Traceback (most recent call last)",
      "Cell \u001b[0;32mIn[9], line 3\u001b[0m\n\u001b[1;32m      1\u001b[0m Dataset_path \u001b[38;5;241m=\u001b[39m \u001b[38;5;124m\"\u001b[39m\u001b[38;5;124m/home/jovyan/ifbdata/spatial_cell_id/Kush/alignment/demo_matrix/align/SRR9036396\u001b[39m\u001b[38;5;124m\"\u001b[39m\n\u001b[0;32m----> 3\u001b[0m output \u001b[38;5;241m=\u001b[39m \u001b[43malevin_to_scanpy\u001b[49m\u001b[43m(\u001b[49m\u001b[43mDataset_path\u001b[49m\u001b[43m)\u001b[49m\n",
      "Cell \u001b[0;32mIn[8], line 26\u001b[0m, in \u001b[0;36malevin_to_scanpy\u001b[0;34m(Dataset_path)\u001b[0m\n\u001b[1;32m     23\u001b[0m     \u001b[38;5;28mprint\u001b[39m(genes_df)\n\u001b[1;32m     25\u001b[0m     \u001b[38;5;66;03m# scanpy input\u001b[39;00m\n\u001b[0;32m---> 26\u001b[0m     adata \u001b[38;5;241m=\u001b[39m \u001b[43msc\u001b[49m\u001b[38;5;241;43m.\u001b[39;49m\u001b[43mread_10x_mtx\u001b[49m\u001b[43m(\u001b[49m\n\u001b[1;32m     27\u001b[0m \u001b[43m        \u001b[49m\u001b[43mtempdir\u001b[49m\u001b[43m,\u001b[49m\u001b[43m  \u001b[49m\u001b[38;5;66;43;03m# the directory with all three files\u001b[39;49;00m\n\u001b[1;32m     28\u001b[0m \u001b[43m        \u001b[49m\u001b[43mvar_names\u001b[49m\u001b[38;5;241;43m=\u001b[39;49m\u001b[38;5;124;43m\"\u001b[39;49m\u001b[38;5;124;43mgene_ids\u001b[39;49m\u001b[38;5;124;43m\"\u001b[39;49m\u001b[43m,\u001b[49m\u001b[43m  \u001b[49m\u001b[38;5;66;43;03m# use gene symbols for the variable names (variables-axis index)\u001b[39;49;00m\n\u001b[1;32m     29\u001b[0m \u001b[43m        \u001b[49m\u001b[43mcache\u001b[49m\u001b[38;5;241;43m=\u001b[39;49m\u001b[38;5;28;43;01mFalse\u001b[39;49;00m\u001b[43m,\u001b[49m\u001b[43m  \u001b[49m\u001b[38;5;66;43;03m# disabling the automatic cache file so we can create one mannually in the training folder.\u001b[39;49;00m\n\u001b[1;32m     30\u001b[0m \u001b[43m    \u001b[49m\u001b[43m)\u001b[49m\n\u001b[1;32m     31\u001b[0m     adata\u001b[38;5;241m.\u001b[39mvar_names_make_unique()\n\u001b[1;32m     32\u001b[0m \u001b[38;5;28;01mreturn\u001b[39;00m adata\n",
      "File \u001b[0;32m/opt/conda/envs/spatialdata/lib/python3.10/site-packages/scanpy/readwrite.py:490\u001b[0m, in \u001b[0;36mread_10x_mtx\u001b[0;34m(path, var_names, make_unique, cache, cache_compression, gex_only, prefix)\u001b[0m\n\u001b[1;32m    488\u001b[0m genefile_exists \u001b[38;5;241m=\u001b[39m (path \u001b[38;5;241m/\u001b[39m \u001b[38;5;124mf\u001b[39m\u001b[38;5;124m'\u001b[39m\u001b[38;5;132;01m{\u001b[39;00mprefix\u001b[38;5;132;01m}\u001b[39;00m\u001b[38;5;124mgenes.tsv\u001b[39m\u001b[38;5;124m'\u001b[39m)\u001b[38;5;241m.\u001b[39mis_file()\n\u001b[1;32m    489\u001b[0m read \u001b[38;5;241m=\u001b[39m _read_legacy_10x_mtx \u001b[38;5;28;01mif\u001b[39;00m genefile_exists \u001b[38;5;28;01melse\u001b[39;00m _read_v3_10x_mtx\n\u001b[0;32m--> 490\u001b[0m adata \u001b[38;5;241m=\u001b[39m \u001b[43mread\u001b[49m\u001b[43m(\u001b[49m\n\u001b[1;32m    491\u001b[0m \u001b[43m    \u001b[49m\u001b[38;5;28;43mstr\u001b[39;49m\u001b[43m(\u001b[49m\u001b[43mpath\u001b[49m\u001b[43m)\u001b[49m\u001b[43m,\u001b[49m\n\u001b[1;32m    492\u001b[0m \u001b[43m    \u001b[49m\u001b[43mvar_names\u001b[49m\u001b[38;5;241;43m=\u001b[39;49m\u001b[43mvar_names\u001b[49m\u001b[43m,\u001b[49m\n\u001b[1;32m    493\u001b[0m \u001b[43m    \u001b[49m\u001b[43mmake_unique\u001b[49m\u001b[38;5;241;43m=\u001b[39;49m\u001b[43mmake_unique\u001b[49m\u001b[43m,\u001b[49m\n\u001b[1;32m    494\u001b[0m \u001b[43m    \u001b[49m\u001b[43mcache\u001b[49m\u001b[38;5;241;43m=\u001b[39;49m\u001b[43mcache\u001b[49m\u001b[43m,\u001b[49m\n\u001b[1;32m    495\u001b[0m \u001b[43m    \u001b[49m\u001b[43mcache_compression\u001b[49m\u001b[38;5;241;43m=\u001b[39;49m\u001b[43mcache_compression\u001b[49m\u001b[43m,\u001b[49m\n\u001b[1;32m    496\u001b[0m \u001b[43m    \u001b[49m\u001b[43mprefix\u001b[49m\u001b[38;5;241;43m=\u001b[39;49m\u001b[43mprefix\u001b[49m\u001b[43m,\u001b[49m\n\u001b[1;32m    497\u001b[0m \u001b[43m\u001b[49m\u001b[43m)\u001b[49m\n\u001b[1;32m    498\u001b[0m \u001b[38;5;28;01mif\u001b[39;00m genefile_exists \u001b[38;5;129;01mor\u001b[39;00m \u001b[38;5;129;01mnot\u001b[39;00m gex_only:\n\u001b[1;32m    499\u001b[0m     \u001b[38;5;28;01mreturn\u001b[39;00m adata\n",
      "File \u001b[0;32m/opt/conda/envs/spatialdata/lib/python3.10/site-packages/scanpy/readwrite.py:534\u001b[0m, in \u001b[0;36m_read_legacy_10x_mtx\u001b[0;34m(path, var_names, make_unique, cache, cache_compression, prefix)\u001b[0m\n\u001b[1;32m    532\u001b[0m \u001b[38;5;28;01melif\u001b[39;00m var_names \u001b[38;5;241m==\u001b[39m \u001b[38;5;124m'\u001b[39m\u001b[38;5;124mgene_ids\u001b[39m\u001b[38;5;124m'\u001b[39m:\n\u001b[1;32m    533\u001b[0m     adata\u001b[38;5;241m.\u001b[39mvar_names \u001b[38;5;241m=\u001b[39m genes[\u001b[38;5;241m0\u001b[39m]\u001b[38;5;241m.\u001b[39mvalues\n\u001b[0;32m--> 534\u001b[0m     adata\u001b[38;5;241m.\u001b[39mvar[\u001b[38;5;124m'\u001b[39m\u001b[38;5;124mgene_symbols\u001b[39m\u001b[38;5;124m'\u001b[39m] \u001b[38;5;241m=\u001b[39m \u001b[43mgenes\u001b[49m\u001b[43m[\u001b[49m\u001b[38;5;241;43m1\u001b[39;49m\u001b[43m]\u001b[49m\u001b[38;5;241m.\u001b[39mvalues\n\u001b[1;32m    535\u001b[0m \u001b[38;5;28;01melse\u001b[39;00m:\n\u001b[1;32m    536\u001b[0m     \u001b[38;5;28;01mraise\u001b[39;00m \u001b[38;5;167;01mValueError\u001b[39;00m(\u001b[38;5;124m\"\u001b[39m\u001b[38;5;124m`var_names` needs to be \u001b[39m\u001b[38;5;124m'\u001b[39m\u001b[38;5;124mgene_symbols\u001b[39m\u001b[38;5;124m'\u001b[39m\u001b[38;5;124m or \u001b[39m\u001b[38;5;124m'\u001b[39m\u001b[38;5;124mgene_ids\u001b[39m\u001b[38;5;124m'\u001b[39m\u001b[38;5;124m\"\u001b[39m)\n",
      "File \u001b[0;32m/opt/conda/envs/spatialdata/lib/python3.10/site-packages/pandas/core/frame.py:3505\u001b[0m, in \u001b[0;36mDataFrame.__getitem__\u001b[0;34m(self, key)\u001b[0m\n\u001b[1;32m   3503\u001b[0m \u001b[38;5;28;01mif\u001b[39;00m \u001b[38;5;28mself\u001b[39m\u001b[38;5;241m.\u001b[39mcolumns\u001b[38;5;241m.\u001b[39mnlevels \u001b[38;5;241m>\u001b[39m \u001b[38;5;241m1\u001b[39m:\n\u001b[1;32m   3504\u001b[0m     \u001b[38;5;28;01mreturn\u001b[39;00m \u001b[38;5;28mself\u001b[39m\u001b[38;5;241m.\u001b[39m_getitem_multilevel(key)\n\u001b[0;32m-> 3505\u001b[0m indexer \u001b[38;5;241m=\u001b[39m \u001b[38;5;28;43mself\u001b[39;49m\u001b[38;5;241;43m.\u001b[39;49m\u001b[43mcolumns\u001b[49m\u001b[38;5;241;43m.\u001b[39;49m\u001b[43mget_loc\u001b[49m\u001b[43m(\u001b[49m\u001b[43mkey\u001b[49m\u001b[43m)\u001b[49m\n\u001b[1;32m   3506\u001b[0m \u001b[38;5;28;01mif\u001b[39;00m is_integer(indexer):\n\u001b[1;32m   3507\u001b[0m     indexer \u001b[38;5;241m=\u001b[39m [indexer]\n",
      "File \u001b[0;32m/opt/conda/envs/spatialdata/lib/python3.10/site-packages/pandas/core/indexes/base.py:3623\u001b[0m, in \u001b[0;36mIndex.get_loc\u001b[0;34m(self, key, method, tolerance)\u001b[0m\n\u001b[1;32m   3621\u001b[0m     \u001b[38;5;28;01mreturn\u001b[39;00m \u001b[38;5;28mself\u001b[39m\u001b[38;5;241m.\u001b[39m_engine\u001b[38;5;241m.\u001b[39mget_loc(casted_key)\n\u001b[1;32m   3622\u001b[0m \u001b[38;5;28;01mexcept\u001b[39;00m \u001b[38;5;167;01mKeyError\u001b[39;00m \u001b[38;5;28;01mas\u001b[39;00m err:\n\u001b[0;32m-> 3623\u001b[0m     \u001b[38;5;28;01mraise\u001b[39;00m \u001b[38;5;167;01mKeyError\u001b[39;00m(key) \u001b[38;5;28;01mfrom\u001b[39;00m \u001b[38;5;21;01merr\u001b[39;00m\n\u001b[1;32m   3624\u001b[0m \u001b[38;5;28;01mexcept\u001b[39;00m \u001b[38;5;167;01mTypeError\u001b[39;00m:\n\u001b[1;32m   3625\u001b[0m     \u001b[38;5;66;03m# If we have a listlike key, _check_indexing_error will raise\u001b[39;00m\n\u001b[1;32m   3626\u001b[0m     \u001b[38;5;66;03m#  InvalidIndexError. Otherwise we fall through and re-raise\u001b[39;00m\n\u001b[1;32m   3627\u001b[0m     \u001b[38;5;66;03m#  the TypeError.\u001b[39;00m\n\u001b[1;32m   3628\u001b[0m     \u001b[38;5;28mself\u001b[39m\u001b[38;5;241m.\u001b[39m_check_indexing_error(key)\n",
      "\u001b[0;31mKeyError\u001b[0m: 1"
     ]
    }
   ],
   "source": [
    "Dataset_path = \"/home/jovyan/ifbdata/spatial_cell_id/Kush/alignment/demo_matrix/align/SRR9036396\"\n",
    "\n",
    "output = alevin_to_scanpy(Dataset_path)"
   ]
  },
  {
   "cell_type": "code",
   "execution_count": null,
   "id": "0385a5da-1b06-41dd-a76f-036eae1bcaf5",
   "metadata": {},
   "outputs": [],
   "source": []
  }
 ],
 "metadata": {
  "kernelspec": {
   "display_name": "spatialdata",
   "language": "python",
   "name": "spatialdata"
  },
  "language_info": {
   "codemirror_mode": {
    "name": "ipython",
    "version": 3
   },
   "file_extension": ".py",
   "mimetype": "text/x-python",
   "name": "python",
   "nbconvert_exporter": "python",
   "pygments_lexer": "ipython3",
   "version": "3.10.11"
  }
 },
 "nbformat": 4,
 "nbformat_minor": 5
}
