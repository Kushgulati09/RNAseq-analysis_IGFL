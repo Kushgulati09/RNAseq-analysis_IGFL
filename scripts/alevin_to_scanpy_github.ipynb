{
 "cells": [
  {
   "cell_type": "code",
   "execution_count": 1,
   "id": "2db42153-e47e-4ca5-acb4-6fdf0622c785",
   "metadata": {},
   "outputs": [],
   "source": [
    "from vpolo.alevin import parser\n",
    "import scanpy as sc\n",
    "import pandas as pd\n",
    "import os \n",
    "from scipy.io import mmwrite\n",
    "from scipy.sparse import csr_matrix\n",
    "import tempfile"
   ]
  },
  {
   "cell_type": "code",
   "execution_count": 30,
   "id": "5693cda3-704f-4194-a6b4-491fb65bf0d0",
   "metadata": {},
   "outputs": [],
   "source": [
    "def alevin_to_scanpy(Dataset_path):\n",
    "\n",
    "    if os.path.isdir(Dataset_path):\n",
    "        alevin_df = parser.read_quants_bin(Dataset_path).T\n",
    "        #alevin_df = alevin_df.T\n",
    "        print(alevin_df.shape)\n",
    "        adata = sc.AnnData(alevin_df)\n",
    "        print(adata)\n",
    "        with tempfile.TemporaryDirectory() as tempdir:\n",
    "            # matrix.mtx\n",
    "            mmwrite(os.path.join(tempdir, \"matrix.mtx\"), csr_matrix(adata.X))\n",
    "            print(adata.X)\n",
    "            \n",
    "            # barcode file\n",
    "            barcodes_df = pd.DataFrame(adata.var_names) #not adata.obs_names as we are using transpose matrix\n",
    "            barcodes_df.to_csv(os.path.join(tempdir, \"barcodes.tsv\"), sep=\"\\t\", index=False, header=False)\n",
    "            print(adata.var_names)\n",
    "            \n",
    "            #adata.obs_names = adata.obs_names.str.split('.').str[0]\n",
    "            # genes file\n",
    "            adata.obs_names = adata.obs_names.str.split('.').str[0]\n",
    "            genes_df = pd.DataFrame(adata.obs_names)\n",
    "            genes_df.to_csv(os.path.join(tempdir, \"genes.tsv\"), sep=\"\\t\", index=False, header=False)\n",
    "            print(adata.obs_names)\n",
    "            \n",
    "            # scanpy input\n",
    "            adata = sc.read_10x_mtx(\n",
    "                tempdir,  # the directory with all three files\n",
    "                var_names=\"gene_ids\",  # use gene symbols for the variable names (variables-axis index)\n",
    "                cache=False,  # disabling the automatic cache file so we can create one mannually in the training folder.\n",
    "            )\n",
    "            adata.var_names_make_unique()\n",
    "        return adata"
   ]
  },
  {
   "cell_type": "code",
   "execution_count": 31,
   "id": "90122b71-8df3-4710-b286-ece81648932c",
   "metadata": {},
   "outputs": [
    {
     "name": "stdout",
     "output_type": "stream",
     "text": [
      "/home/jovyan/ifbdata/spatial_cell_id/Kush/alignment/demo_matrix/align/SRR9036396/alevin\n",
      "Using rust mode with 3281 rows and 78277 columns\n",
      "(78277, 3281)\n",
      "AnnData object with n_obs × n_vars = 78277 × 3281\n",
      "[[  0.           0.           0.         ...   0.           0.\n",
      "    0.        ]\n",
      " [  0.           0.           0.         ...   0.           0.\n",
      "    0.        ]\n",
      " [  0.           1.5          0.         ...   0.33333334   0.\n",
      "    0.        ]\n",
      " ...\n",
      " [162.         189.          55.         ...   8.           4.\n",
      "    2.        ]\n",
      " [  0.           0.           0.         ...   0.           0.\n",
      "    0.        ]\n",
      " [  0.           0.           0.         ...   0.           0.\n",
      "    0.        ]]\n",
      "Index(['ENSG00000290825.2', 'ENSG00000223972.6', 'ENSG00000310526.1',\n",
      "       'ENSG00000227232.6', 'ENSG00000278267.1', 'ENSG00000243485.6',\n",
      "       'ENSG00000284332.1', 'ENSG00000237613.3', 'ENSG00000308361.1',\n",
      "       'ENSG00000290826.2',\n",
      "       ...\n",
      "       'ENSG00000198886.2', 'ENSG00000210176.1', 'ENSG00000210184.1',\n",
      "       'ENSG00000210191.1', 'ENSG00000198786.2', 'ENSG00000198695.2',\n",
      "       'ENSG00000210194.1', 'ENSG00000198727.2', 'ENSG00000210195.2',\n",
      "       'ENSG00000210196.2'],\n",
      "      dtype='object', length=78277)\n",
      "Index(['CTTAACTTCTGAGGGA', 'AACACGTGTACAAGTA', 'AGAGCTTTCTTAACCT',\n",
      "       'TGGTTAGAGCAGACTG', 'CGGACGTCAACTGGCC', 'CGTTCTGGTTCGTTGA',\n",
      "       'ATTGGACAGCGATTCT', 'GCGCAGTGTATATCCG', 'TGGACGCGTCCTGCTT',\n",
      "       'CAGCTGGGTCCGAGTC',\n",
      "       ...\n",
      "       'GTAACGTCAGACTCGC', 'CAGCCGAAGACGCTTT', 'CGATGTAGTCCGACGT',\n",
      "       'GTACGTACAACGATGG', 'ACGTCAATCGTCTGAA', 'CAGTAACTCAGTCAGT',\n",
      "       'CGAGAAGAGAGCTGCA', 'CATCCACTCCAAACTG', 'CCCAGTTTCACTTACT',\n",
      "       'TACTTGTCAAGTCTGT'],\n",
      "      dtype='object', length=3281)\n"
     ]
    },
    {
     "ename": "ValueError",
     "evalue": "Length of passed value for var_names is 3281, but this AnnData has shape: (3281, 78277)",
     "output_type": "error",
     "traceback": [
      "\u001b[0;31m---------------------------------------------------------------------------\u001b[0m",
      "\u001b[0;31mValueError\u001b[0m                                Traceback (most recent call last)",
      "Cell \u001b[0;32mIn[31], line 3\u001b[0m\n\u001b[1;32m      1\u001b[0m Dataset_path \u001b[38;5;241m=\u001b[39m \u001b[38;5;124m\"\u001b[39m\u001b[38;5;124m/home/jovyan/ifbdata/spatial_cell_id/Kush/alignment/demo_matrix/align/SRR9036396\u001b[39m\u001b[38;5;124m\"\u001b[39m\n\u001b[0;32m----> 3\u001b[0m output \u001b[38;5;241m=\u001b[39m \u001b[43malevin_to_scanpy\u001b[49m\u001b[43m(\u001b[49m\u001b[43mDataset_path\u001b[49m\u001b[43m)\u001b[49m\n",
      "Cell \u001b[0;32mIn[30], line 27\u001b[0m, in \u001b[0;36malevin_to_scanpy\u001b[0;34m(Dataset_path)\u001b[0m\n\u001b[1;32m     24\u001b[0m     \u001b[38;5;28mprint\u001b[39m(adata\u001b[38;5;241m.\u001b[39mvar_names)\n\u001b[1;32m     26\u001b[0m     \u001b[38;5;66;03m# scanpy input\u001b[39;00m\n\u001b[0;32m---> 27\u001b[0m     adata \u001b[38;5;241m=\u001b[39m \u001b[43msc\u001b[49m\u001b[38;5;241;43m.\u001b[39;49m\u001b[43mread_10x_mtx\u001b[49m\u001b[43m(\u001b[49m\n\u001b[1;32m     28\u001b[0m \u001b[43m        \u001b[49m\u001b[43mtempdir\u001b[49m\u001b[43m,\u001b[49m\u001b[43m  \u001b[49m\u001b[38;5;66;43;03m# the directory with all three files\u001b[39;49;00m\n\u001b[1;32m     29\u001b[0m \u001b[43m        \u001b[49m\u001b[43mvar_names\u001b[49m\u001b[38;5;241;43m=\u001b[39;49m\u001b[38;5;124;43m\"\u001b[39;49m\u001b[38;5;124;43mgene_ids\u001b[39;49m\u001b[38;5;124;43m\"\u001b[39;49m\u001b[43m,\u001b[49m\u001b[43m  \u001b[49m\u001b[38;5;66;43;03m# use gene symbols for the variable names (variables-axis index)\u001b[39;49;00m\n\u001b[1;32m     30\u001b[0m \u001b[43m        \u001b[49m\u001b[43mcache\u001b[49m\u001b[38;5;241;43m=\u001b[39;49m\u001b[38;5;28;43;01mFalse\u001b[39;49;00m\u001b[43m,\u001b[49m\u001b[43m  \u001b[49m\u001b[38;5;66;43;03m# disabling the automatic cache file so we can create one mannually in the training folder.\u001b[39;49;00m\n\u001b[1;32m     31\u001b[0m \u001b[43m    \u001b[49m\u001b[43m)\u001b[49m\n\u001b[1;32m     32\u001b[0m     adata\u001b[38;5;241m.\u001b[39mvar_names_make_unique()\n\u001b[1;32m     33\u001b[0m \u001b[38;5;28;01mreturn\u001b[39;00m adata\n",
      "File \u001b[0;32m/opt/conda/envs/spatialdata/lib/python3.10/site-packages/legacy_api_wrap/__init__.py:82\u001b[0m, in \u001b[0;36mlegacy_api.<locals>.wrapper.<locals>.fn_compatible\u001b[0;34m(*args_all, **kw)\u001b[0m\n\u001b[1;32m     79\u001b[0m \u001b[38;5;129m@wraps\u001b[39m(fn)\n\u001b[1;32m     80\u001b[0m \u001b[38;5;28;01mdef\u001b[39;00m \u001b[38;5;21mfn_compatible\u001b[39m(\u001b[38;5;241m*\u001b[39margs_all: P\u001b[38;5;241m.\u001b[39margs, \u001b[38;5;241m*\u001b[39m\u001b[38;5;241m*\u001b[39mkw: P\u001b[38;5;241m.\u001b[39mkwargs) \u001b[38;5;241m-\u001b[39m\u001b[38;5;241m>\u001b[39m R:\n\u001b[1;32m     81\u001b[0m     \u001b[38;5;28;01mif\u001b[39;00m \u001b[38;5;28mlen\u001b[39m(args_all) \u001b[38;5;241m<\u001b[39m\u001b[38;5;241m=\u001b[39m n_positional:\n\u001b[0;32m---> 82\u001b[0m         \u001b[38;5;28;01mreturn\u001b[39;00m \u001b[43mfn\u001b[49m\u001b[43m(\u001b[49m\u001b[38;5;241;43m*\u001b[39;49m\u001b[43margs_all\u001b[49m\u001b[43m,\u001b[49m\u001b[43m \u001b[49m\u001b[38;5;241;43m*\u001b[39;49m\u001b[38;5;241;43m*\u001b[39;49m\u001b[43mkw\u001b[49m\u001b[43m)\u001b[49m\n\u001b[1;32m     84\u001b[0m     args_pos: P\u001b[38;5;241m.\u001b[39margs\n\u001b[1;32m     85\u001b[0m     args_pos, args_rest \u001b[38;5;241m=\u001b[39m args_all[:n_positional], args_all[n_positional:]\n",
      "File \u001b[0;32m/opt/conda/envs/spatialdata/lib/python3.10/site-packages/scanpy/readwrite.py:573\u001b[0m, in \u001b[0;36mread_10x_mtx\u001b[0;34m(path, var_names, make_unique, cache, cache_compression, gex_only, prefix)\u001b[0m\n\u001b[1;32m    571\u001b[0m prefix \u001b[38;5;241m=\u001b[39m \u001b[38;5;124m\"\u001b[39m\u001b[38;5;124m\"\u001b[39m \u001b[38;5;28;01mif\u001b[39;00m prefix \u001b[38;5;129;01mis\u001b[39;00m \u001b[38;5;28;01mNone\u001b[39;00m \u001b[38;5;28;01melse\u001b[39;00m prefix\n\u001b[1;32m    572\u001b[0m is_legacy \u001b[38;5;241m=\u001b[39m (path \u001b[38;5;241m/\u001b[39m \u001b[38;5;124mf\u001b[39m\u001b[38;5;124m\"\u001b[39m\u001b[38;5;132;01m{\u001b[39;00mprefix\u001b[38;5;132;01m}\u001b[39;00m\u001b[38;5;124mgenes.tsv\u001b[39m\u001b[38;5;124m\"\u001b[39m)\u001b[38;5;241m.\u001b[39mis_file()\n\u001b[0;32m--> 573\u001b[0m adata \u001b[38;5;241m=\u001b[39m \u001b[43m_read_10x_mtx\u001b[49m\u001b[43m(\u001b[49m\n\u001b[1;32m    574\u001b[0m \u001b[43m    \u001b[49m\u001b[43mpath\u001b[49m\u001b[43m,\u001b[49m\n\u001b[1;32m    575\u001b[0m \u001b[43m    \u001b[49m\u001b[43mvar_names\u001b[49m\u001b[38;5;241;43m=\u001b[39;49m\u001b[43mvar_names\u001b[49m\u001b[43m,\u001b[49m\n\u001b[1;32m    576\u001b[0m \u001b[43m    \u001b[49m\u001b[43mmake_unique\u001b[49m\u001b[38;5;241;43m=\u001b[39;49m\u001b[43mmake_unique\u001b[49m\u001b[43m,\u001b[49m\n\u001b[1;32m    577\u001b[0m \u001b[43m    \u001b[49m\u001b[43mcache\u001b[49m\u001b[38;5;241;43m=\u001b[39;49m\u001b[43mcache\u001b[49m\u001b[43m,\u001b[49m\n\u001b[1;32m    578\u001b[0m \u001b[43m    \u001b[49m\u001b[43mcache_compression\u001b[49m\u001b[38;5;241;43m=\u001b[39;49m\u001b[43mcache_compression\u001b[49m\u001b[43m,\u001b[49m\n\u001b[1;32m    579\u001b[0m \u001b[43m    \u001b[49m\u001b[43mprefix\u001b[49m\u001b[38;5;241;43m=\u001b[39;49m\u001b[43mprefix\u001b[49m\u001b[43m,\u001b[49m\n\u001b[1;32m    580\u001b[0m \u001b[43m    \u001b[49m\u001b[43mis_legacy\u001b[49m\u001b[38;5;241;43m=\u001b[39;49m\u001b[43mis_legacy\u001b[49m\u001b[43m,\u001b[49m\n\u001b[1;32m    581\u001b[0m \u001b[43m\u001b[49m\u001b[43m)\u001b[49m\n\u001b[1;32m    582\u001b[0m \u001b[38;5;28;01mif\u001b[39;00m is_legacy \u001b[38;5;129;01mor\u001b[39;00m \u001b[38;5;129;01mnot\u001b[39;00m gex_only:\n\u001b[1;32m    583\u001b[0m     \u001b[38;5;28;01mreturn\u001b[39;00m adata\n",
      "File \u001b[0;32m/opt/conda/envs/spatialdata/lib/python3.10/site-packages/scanpy/readwrite.py:619\u001b[0m, in \u001b[0;36m_read_10x_mtx\u001b[0;34m(path, var_names, make_unique, cache, cache_compression, prefix, is_legacy)\u001b[0m\n\u001b[1;32m    617\u001b[0m     adata\u001b[38;5;241m.\u001b[39mvar[\u001b[38;5;124m\"\u001b[39m\u001b[38;5;124mgene_ids\u001b[39m\u001b[38;5;124m\"\u001b[39m] \u001b[38;5;241m=\u001b[39m genes[\u001b[38;5;241m0\u001b[39m]\u001b[38;5;241m.\u001b[39mvalues\n\u001b[1;32m    618\u001b[0m \u001b[38;5;28;01melif\u001b[39;00m var_names \u001b[38;5;241m==\u001b[39m \u001b[38;5;124m\"\u001b[39m\u001b[38;5;124mgene_ids\u001b[39m\u001b[38;5;124m\"\u001b[39m:\n\u001b[0;32m--> 619\u001b[0m     \u001b[43madata\u001b[49m\u001b[38;5;241;43m.\u001b[39;49m\u001b[43mvar_names\u001b[49m \u001b[38;5;241m=\u001b[39m genes[\u001b[38;5;241m0\u001b[39m]\u001b[38;5;241m.\u001b[39mvalues\n\u001b[1;32m    620\u001b[0m     adata\u001b[38;5;241m.\u001b[39mvar[\u001b[38;5;124m\"\u001b[39m\u001b[38;5;124mgene_symbols\u001b[39m\u001b[38;5;124m\"\u001b[39m] \u001b[38;5;241m=\u001b[39m genes[\u001b[38;5;241m1\u001b[39m]\u001b[38;5;241m.\u001b[39mvalues\n\u001b[1;32m    621\u001b[0m \u001b[38;5;28;01melse\u001b[39;00m:\n",
      "File \u001b[0;32m/opt/conda/envs/spatialdata/lib/python3.10/site-packages/anndata/_core/anndata.py:845\u001b[0m, in \u001b[0;36mAnnData.var_names\u001b[0;34m(self, names)\u001b[0m\n\u001b[1;32m    843\u001b[0m \u001b[38;5;129m@var_names\u001b[39m\u001b[38;5;241m.\u001b[39msetter\n\u001b[1;32m    844\u001b[0m \u001b[38;5;28;01mdef\u001b[39;00m \u001b[38;5;21mvar_names\u001b[39m(\u001b[38;5;28mself\u001b[39m, names: Sequence[\u001b[38;5;28mstr\u001b[39m]):\n\u001b[0;32m--> 845\u001b[0m     names \u001b[38;5;241m=\u001b[39m \u001b[38;5;28;43mself\u001b[39;49m\u001b[38;5;241;43m.\u001b[39;49m\u001b[43m_prep_dim_index\u001b[49m\u001b[43m(\u001b[49m\u001b[43mnames\u001b[49m\u001b[43m,\u001b[49m\u001b[43m \u001b[49m\u001b[38;5;124;43m\"\u001b[39;49m\u001b[38;5;124;43mvar\u001b[39;49m\u001b[38;5;124;43m\"\u001b[39;49m\u001b[43m)\u001b[49m\n\u001b[1;32m    846\u001b[0m     \u001b[38;5;28mself\u001b[39m\u001b[38;5;241m.\u001b[39m_set_dim_index(names, \u001b[38;5;124m\"\u001b[39m\u001b[38;5;124mvar\u001b[39m\u001b[38;5;124m\"\u001b[39m)\n",
      "File \u001b[0;32m/opt/conda/envs/spatialdata/lib/python3.10/site-packages/anndata/_core/anndata.py:764\u001b[0m, in \u001b[0;36mAnnData._prep_dim_index\u001b[0;34m(self, value, attr)\u001b[0m\n\u001b[1;32m    759\u001b[0m \u001b[38;5;250m\u001b[39m\u001b[38;5;124;03m\"\"\"Prepares index to be uses as obs_names or var_names for AnnData object.AssertionError\u001b[39;00m\n\u001b[1;32m    760\u001b[0m \n\u001b[1;32m    761\u001b[0m \u001b[38;5;124;03mIf a pd.Index is passed, this will use a reference, otherwise a new index object is created.\u001b[39;00m\n\u001b[1;32m    762\u001b[0m \u001b[38;5;124;03m\"\"\"\u001b[39;00m\n\u001b[1;32m    763\u001b[0m \u001b[38;5;28;01mif\u001b[39;00m \u001b[38;5;28mself\u001b[39m\u001b[38;5;241m.\u001b[39mshape[attr \u001b[38;5;241m==\u001b[39m \u001b[38;5;124m\"\u001b[39m\u001b[38;5;124mvar\u001b[39m\u001b[38;5;124m\"\u001b[39m] \u001b[38;5;241m!=\u001b[39m \u001b[38;5;28mlen\u001b[39m(value):\n\u001b[0;32m--> 764\u001b[0m     \u001b[38;5;28;01mraise\u001b[39;00m \u001b[38;5;167;01mValueError\u001b[39;00m(\n\u001b[1;32m    765\u001b[0m         \u001b[38;5;124mf\u001b[39m\u001b[38;5;124m\"\u001b[39m\u001b[38;5;124mLength of passed value for \u001b[39m\u001b[38;5;132;01m{\u001b[39;00mattr\u001b[38;5;132;01m}\u001b[39;00m\u001b[38;5;124m_names is \u001b[39m\u001b[38;5;132;01m{\u001b[39;00m\u001b[38;5;28mlen\u001b[39m(value)\u001b[38;5;132;01m}\u001b[39;00m\u001b[38;5;124m, but this AnnData has shape: \u001b[39m\u001b[38;5;132;01m{\u001b[39;00m\u001b[38;5;28mself\u001b[39m\u001b[38;5;241m.\u001b[39mshape\u001b[38;5;132;01m}\u001b[39;00m\u001b[38;5;124m\"\u001b[39m\n\u001b[1;32m    766\u001b[0m     )\n\u001b[1;32m    767\u001b[0m \u001b[38;5;28;01mif\u001b[39;00m \u001b[38;5;28misinstance\u001b[39m(value, pd\u001b[38;5;241m.\u001b[39mIndex) \u001b[38;5;129;01mand\u001b[39;00m \u001b[38;5;129;01mnot\u001b[39;00m \u001b[38;5;28misinstance\u001b[39m(value\u001b[38;5;241m.\u001b[39mname, \u001b[38;5;28mstr\u001b[39m \u001b[38;5;241m|\u001b[39m \u001b[38;5;28mtype\u001b[39m(\u001b[38;5;28;01mNone\u001b[39;00m)):\n\u001b[1;32m    768\u001b[0m     \u001b[38;5;28;01mraise\u001b[39;00m \u001b[38;5;167;01mValueError\u001b[39;00m(\n\u001b[1;32m    769\u001b[0m         \u001b[38;5;124mf\u001b[39m\u001b[38;5;124m\"\u001b[39m\u001b[38;5;124mAnnData expects .\u001b[39m\u001b[38;5;132;01m{\u001b[39;00mattr\u001b[38;5;132;01m}\u001b[39;00m\u001b[38;5;124m.index.name to be a string or None, \u001b[39m\u001b[38;5;124m\"\u001b[39m\n\u001b[1;32m    770\u001b[0m         \u001b[38;5;124mf\u001b[39m\u001b[38;5;124m\"\u001b[39m\u001b[38;5;124mbut you passed a name of type \u001b[39m\u001b[38;5;132;01m{\u001b[39;00m\u001b[38;5;28mtype\u001b[39m(value\u001b[38;5;241m.\u001b[39mname)\u001b[38;5;241m.\u001b[39m\u001b[38;5;18m__name__\u001b[39m\u001b[38;5;132;01m!r}\u001b[39;00m\u001b[38;5;124m\"\u001b[39m\n\u001b[1;32m    771\u001b[0m     )\n",
      "\u001b[0;31mValueError\u001b[0m: Length of passed value for var_names is 3281, but this AnnData has shape: (3281, 78277)"
     ]
    }
   ],
   "source": [
    "Dataset_path = \"/home/jovyan/ifbdata/spatial_cell_id/Kush/alignment/demo_matrix/align/SRR9036396\"\n",
    "\n",
    "output = alevin_to_scanpy(Dataset_path)"
   ]
  },
  {
   "cell_type": "code",
   "execution_count": 6,
   "id": "0385a5da-1b06-41dd-a76f-036eae1bcaf5",
   "metadata": {},
   "outputs": [
    {
     "name": "stdout",
     "output_type": "stream",
     "text": [
      "/home/jovyan/ifbdata/spatial_cell_id/Kush/alignment/demo_matrix/align/SRR9036396/alevin\n",
      "Using rust mode with 3281 rows and 78277 columns\n",
      "(78277, 3281)\n"
     ]
    }
   ],
   "source": [
    "alevin_df = parser.read_quants_bin(Dataset_path).T\n",
    "print(alevin_df.shape)\n",
    "adata = sc.AnnData(alevin_df)"
   ]
  },
  {
   "cell_type": "code",
   "execution_count": 22,
   "id": "0645bea8-db77-4d5a-9298-07f5842399cf",
   "metadata": {},
   "outputs": [
    {
     "data": {
      "text/plain": [
       "Index(['ENSG00000290825', 'ENSG00000223972', 'ENSG00000310526',\n",
       "       'ENSG00000227232', 'ENSG00000278267', 'ENSG00000243485',\n",
       "       'ENSG00000284332', 'ENSG00000237613', 'ENSG00000308361',\n",
       "       'ENSG00000290826',\n",
       "       ...\n",
       "       'ENSG00000198886', 'ENSG00000210176', 'ENSG00000210184',\n",
       "       'ENSG00000210191', 'ENSG00000198786', 'ENSG00000198695',\n",
       "       'ENSG00000210194', 'ENSG00000198727', 'ENSG00000210195',\n",
       "       'ENSG00000210196'],\n",
       "      dtype='object', length=78277)"
      ]
     },
     "execution_count": 22,
     "metadata": {},
     "output_type": "execute_result"
    }
   ],
   "source": [
    "adata.obs_names"
   ]
  },
  {
   "cell_type": "code",
   "execution_count": 21,
   "id": "25dc3de0-892d-4282-9b92-3053f89be317",
   "metadata": {},
   "outputs": [],
   "source": [
    "adata.obs_names = adata.obs_names.str.split('.').str[0]"
   ]
  },
  {
   "cell_type": "code",
   "execution_count": null,
   "id": "e09c2103-94c7-4a60-9825-4fc5cafcd0a7",
   "metadata": {},
   "outputs": [],
   "source": []
  }
 ],
 "metadata": {
  "kernelspec": {
   "display_name": "spatialdata",
   "language": "python",
   "name": "spatialdata"
  },
  "language_info": {
   "codemirror_mode": {
    "name": "ipython",
    "version": 3
   },
   "file_extension": ".py",
   "mimetype": "text/x-python",
   "name": "python",
   "nbconvert_exporter": "python",
   "pygments_lexer": "ipython3",
   "version": "3.10.11"
  }
 },
 "nbformat": 4,
 "nbformat_minor": 5
}
